{
 "cells": [
  {
   "cell_type": "code",
   "execution_count": null,
   "id": "ed8b257f-8301-4f70-ab36-139772785cb6",
   "metadata": {},
   "outputs": [],
   "source": [
    "def multiply_ten(x):\n",
    "    return x*10\n",
    "\n",
    "def add_two(x,y):\n",
    "    return x+y\n",
    "\n",
    "def get_max(x,y):\n",
    "    if x>y:\n",
    "        return x\n",
    "    else:\n",
    "        return y"
   ]
  },
  {
   "cell_type": "code",
   "execution_count": 1,
   "id": "f7d1c137-eae4-4924-a835-8565241212c6",
   "metadata": {},
   "outputs": [],
   "source": [
    "multiply_ten = lambda x: x*10"
   ]
  },
  {
   "cell_type": "code",
   "execution_count": 2,
   "id": "495e318f-c800-4aae-ac82-37d279fa8b12",
   "metadata": {},
   "outputs": [
    {
     "data": {
      "text/plain": [
       "20"
      ]
     },
     "execution_count": 2,
     "metadata": {},
     "output_type": "execute_result"
    }
   ],
   "source": [
    "multiply_ten(2)"
   ]
  },
  {
   "cell_type": "code",
   "execution_count": 3,
   "id": "f0496793-4c4a-4bea-bfcd-41949b1cd954",
   "metadata": {},
   "outputs": [],
   "source": [
    "add_two = lambda x,y : x+y"
   ]
  },
  {
   "cell_type": "code",
   "execution_count": 4,
   "id": "398783c2-071d-4b20-ae4a-ea2aa53b4f93",
   "metadata": {},
   "outputs": [
    {
     "data": {
      "text/plain": [
       "5"
      ]
     },
     "execution_count": 4,
     "metadata": {},
     "output_type": "execute_result"
    }
   ],
   "source": [
    "add_two(2,3)"
   ]
  },
  {
   "cell_type": "code",
   "execution_count": 5,
   "id": "980c6f54-966b-4ddd-a96d-98dfe49e7e2b",
   "metadata": {},
   "outputs": [],
   "source": [
    "get_max = lambda x,y: x if x>y else y"
   ]
  },
  {
   "cell_type": "code",
   "execution_count": 6,
   "id": "28b76ab3-3acb-42a5-9035-317049a960a5",
   "metadata": {},
   "outputs": [
    {
     "data": {
      "text/plain": [
       "40"
      ]
     },
     "execution_count": 6,
     "metadata": {},
     "output_type": "execute_result"
    }
   ],
   "source": [
    "get_max(30,40)"
   ]
  },
  {
   "cell_type": "code",
   "execution_count": 7,
   "id": "2115b79c-023b-4af8-886f-e334556bdd58",
   "metadata": {},
   "outputs": [],
   "source": [
    "l1 = ['apple', 'banana', 'cherry']"
   ]
  },
  {
   "cell_type": "code",
   "execution_count": 9,
   "id": "d5f356f0-6932-4d28-a289-a2438bb98db0",
   "metadata": {},
   "outputs": [
    {
     "data": {
      "text/plain": [
       "[5, 6, 6]"
      ]
     },
     "execution_count": 9,
     "metadata": {},
     "output_type": "execute_result"
    }
   ],
   "source": [
    "list(map(lambda item: len(item),l1))"
   ]
  },
  {
   "cell_type": "code",
   "execution_count": 10,
   "id": "8670c1b6-5a65-4bf4-950e-f79fd979ef5c",
   "metadata": {},
   "outputs": [],
   "source": [
    "l2 = [2, 4, 78, 36]"
   ]
  },
  {
   "cell_type": "code",
   "execution_count": 12,
   "id": "3c64f3bb-b99c-48d3-a6b3-5a8d22f8de6e",
   "metadata": {},
   "outputs": [
    {
     "data": {
      "text/plain": [
       "[4, 16, 6084, 1296]"
      ]
     },
     "execution_count": 12,
     "metadata": {},
     "output_type": "execute_result"
    }
   ],
   "source": [
    "list(map(lambda value: value*value, l2))"
   ]
  },
  {
   "cell_type": "code",
   "execution_count": 19,
   "id": "45bc8ee2-fe74-47d1-9f0e-d4f4006f8e1e",
   "metadata": {},
   "outputs": [],
   "source": [
    "def sqr(value:int)->int:\n",
    "    return value*value*value"
   ]
  },
  {
   "cell_type": "code",
   "execution_count": 21,
   "id": "ae454236-7ed9-4e42-812b-6568da4ba789",
   "metadata": {},
   "outputs": [
    {
     "data": {
      "text/plain": [
       "[8, 64, 474552, 46656]"
      ]
     },
     "execution_count": 21,
     "metadata": {},
     "output_type": "execute_result"
    }
   ],
   "source": [
    "list(map(sqrt, l2))"
   ]
  },
  {
   "cell_type": "code",
   "execution_count": null,
   "id": "f7e2862f-910a-48a7-91a7-075921df24c3",
   "metadata": {},
   "outputs": [],
   "source": []
  },
  {
   "cell_type": "code",
   "execution_count": 24,
   "id": "4e91a97b-d880-4f32-834f-0ef5383e6ef1",
   "metadata": {},
   "outputs": [],
   "source": [
    "letters = ['u', 'a', 'q', 'c', 'i', 'd', 'z', 'p', 'e']"
   ]
  },
  {
   "cell_type": "code",
   "execution_count": 25,
   "id": "6d527651-b04c-48fe-8ac3-5e9a52baabd6",
   "metadata": {},
   "outputs": [],
   "source": [
    "def check(letter):\n",
    "    list_of_vowels = ['a', 'e', 'i', 'o', 'u']\n",
    "    if letter in list_of_vowels:\n",
    "        return True\n",
    "    else:\n",
    "          return False"
   ]
  },
  {
   "cell_type": "code",
   "execution_count": 29,
   "id": "e3fb69d6-6fc5-4187-8d4d-4801d3b84d7d",
   "metadata": {},
   "outputs": [],
   "source": [
    "filtered_objects = filter(check, letters)"
   ]
  },
  {
   "cell_type": "code",
   "execution_count": 30,
   "id": "1b448bab-2315-49a6-ac02-bfb79155bf4f",
   "metadata": {},
   "outputs": [
    {
     "data": {
      "text/plain": [
       "['u', 'a', 'i', 'e']"
      ]
     },
     "execution_count": 30,
     "metadata": {},
     "output_type": "execute_result"
    }
   ],
   "source": [
    "list(filtered_objects\n",
    "    )"
   ]
  },
  {
   "cell_type": "code",
   "execution_count": 31,
   "id": "f3bf149d-d363-4191-9c51-9daea8201b2c",
   "metadata": {},
   "outputs": [],
   "source": [
    "import json"
   ]
  },
  {
   "cell_type": "code",
   "execution_count": 32,
   "id": "de85ed84-3356-47be-b5de-173c5fc6d313",
   "metadata": {},
   "outputs": [],
   "source": [
    "with open ('drake_data.json') as drake_data:\n",
    "    drake_lyrics = json.load(drake_data)"
   ]
  },
  {
   "cell_type": "code",
   "execution_count": 33,
   "id": "8884b13b-19ae-4ea0-9b15-a43e082d8d3c",
   "metadata": {},
   "outputs": [
    {
     "data": {
      "text/plain": [
       "290"
      ]
     },
     "execution_count": 33,
     "metadata": {},
     "output_type": "execute_result"
    }
   ],
   "source": [
    "len(drake_lyrics)"
   ]
  },
  {
   "cell_type": "code",
   "execution_count": 40,
   "id": "8036ca34-27a1-4dad-b68f-5fffbc56fd03",
   "metadata": {},
   "outputs": [
    {
     "data": {
      "text/plain": [
       "[{'album': 'Certified Lover Boy',\n",
       "  'lyrics_title': 'Certified Lover Boy* Lyrics',\n",
       "  'lyrics_url': 'https://genius.com/Drake-certified-lover-boy-lyrics',\n",
       "  'lyrics': \"Lyrics from CLB Merch  [Verse] Put my feelings on ice Always been a gem Certified lover boy, somehow still heartless Heart is only gettin' colder\",\n",
       "  'track_views': '8.7K'},\n",
       " {'album': 'Certified Lover Boy',\n",
       "  'lyrics_title': 'Like I’m Supposed To/Do Things Lyrics',\n",
       "  'lyrics_url': 'https://genius.com/Drake-like-im-supposed-to-do-things-lyrics',\n",
       "  'lyrics': \"[Verse] Hands are tied Someone's in my ear from the other side Tellin' me that I should pay you no mind Wanted you to not be with me all night Wanted you to not stay with me all night I know, you know, who that person is to me Doesn't really change things  [Chorus] I know you're scared of dating, falling for me Shorty, surely you know me Right here for you always You know, I don't ever change Right here for you always You know I don't ever change Right here for you  [Bridge] In mind you make me want to do things, love you Like I'm supposed to You make me want to love you Like I'm supposed to You make me want to love you Like I'm supposed to, remind you Ayy  [Chorus] I know you're scared of dating, falling for me Shorty, by now you know me Right here for you always You know, I don't ever change Right here for you always You know I don't ever change Right here for you\",\n",
       "  'track_views': '38.8K'}]"
      ]
     },
     "execution_count": 40,
     "metadata": {},
     "output_type": "execute_result"
    }
   ],
   "source": [
    "drake_lyrics[:2]"
   ]
  },
  {
   "cell_type": "code",
   "execution_count": 36,
   "id": "70f5d41d-fbe8-4425-9941-c0cc3796709c",
   "metadata": {},
   "outputs": [],
   "source": [
    "drake_lyrics = list(filter(lambda song: song['lyrics']!=None,drake_lyrics))"
   ]
  },
  {
   "cell_type": "code",
   "execution_count": 39,
   "id": "ab032e79-4947-4984-a38a-ba69c886a71e",
   "metadata": {},
   "outputs": [],
   "source": [
    "for song in drake_lyrics:\n",
    "    song['lyrics'] = song['lyrics'].replace('\\n', ' ')"
   ]
  },
  {
   "cell_type": "code",
   "execution_count": 43,
   "id": "e3fc3a05-be2f-45d3-bcc6-279562edea55",
   "metadata": {},
   "outputs": [],
   "source": [
    "def get_views(track_views):\n",
    "    if track_views==None:\n",
    "        return 0.0\n",
    "    elif 'K' in track_views:\n",
    "        return float(track_views.replace('K',''))*1000\n",
    "    elif 'M' in track_views:\n",
    "        return float(track_views.replace('M',''))*1000000\n",
    "    else:\n",
    "        return 0.0"
   ]
  },
  {
   "cell_type": "code",
   "execution_count": 45,
   "id": "373bbd8e-720f-434d-8e9f-57b74fc847ca",
   "metadata": {},
   "outputs": [],
   "source": [
    "l4 = list(map(lambda song: [\n",
    "    get_views(song['track_views']),\n",
    "    len(song['lyrics_title']),\n",
    "    len(song['lyrics'].split(' '))\n",
    "], drake_lyrics))"
   ]
  },
  {
   "cell_type": "code",
   "execution_count": 46,
   "id": "b71cd1a5-a196-4d90-8d6b-a93bcbbed9d9",
   "metadata": {},
   "outputs": [
    {
     "data": {
      "text/plain": [
       "[[8700.0, 27, 26], [38800.0, 37, 180]]"
      ]
     },
     "execution_count": 46,
     "metadata": {},
     "output_type": "execute_result"
    }
   ],
   "source": [
    "l4[:2]"
   ]
  },
  {
   "cell_type": "code",
   "execution_count": 50,
   "id": "e83e79f4-6085-4e9d-8f71-d1a518121073",
   "metadata": {},
   "outputs": [],
   "source": [
    "import numpy as np"
   ]
  },
  {
   "cell_type": "code",
   "execution_count": 52,
   "id": "90a3bfd7-3866-4e23-bb91-fb2739141c16",
   "metadata": {},
   "outputs": [],
   "source": [
    "data = np.array(list(filter(lambda song_stat:\n",
    "       not any(list(map(lambda stat: stat==0,song_stat))),l4\n",
    "      )))"
   ]
  },
  {
   "cell_type": "code",
   "execution_count": 53,
   "id": "912b633d-0fb5-448e-8c93-c6676b45633e",
   "metadata": {},
   "outputs": [],
   "source": [
    "from scipy.stats import pearsonr"
   ]
  },
  {
   "cell_type": "code",
   "execution_count": 54,
   "id": "f4caf739-c4ab-43a4-bcb1-3812a6e553e2",
   "metadata": {},
   "outputs": [],
   "source": [
    "corr, _ = pearsonr(data[:,0],data[:,1])"
   ]
  },
  {
   "cell_type": "code",
   "execution_count": 55,
   "id": "811b23a3-aaf5-41a8-b948-fd790f55c874",
   "metadata": {},
   "outputs": [
    {
     "data": {
      "text/plain": [
       "-0.1595955752681072"
      ]
     },
     "execution_count": 55,
     "metadata": {},
     "output_type": "execute_result"
    }
   ],
   "source": [
    "corr"
   ]
  },
  {
   "cell_type": "code",
   "execution_count": 56,
   "id": "84d2a1b3-4a4b-4c93-8edf-4e97409f294c",
   "metadata": {},
   "outputs": [],
   "source": [
    "corr, _ = pearsonr(data[:,0],data[:,2])"
   ]
  },
  {
   "cell_type": "code",
   "execution_count": 57,
   "id": "5f6f92a1-37c9-41ac-b3c6-f94810f5b800",
   "metadata": {},
   "outputs": [
    {
     "data": {
      "text/plain": [
       "0.02982479648996272"
      ]
     },
     "execution_count": 57,
     "metadata": {},
     "output_type": "execute_result"
    }
   ],
   "source": [
    "corr"
   ]
  },
  {
   "cell_type": "code",
   "execution_count": null,
   "id": "ad536ef3-2fda-49f2-bd0f-150ce102ed6f",
   "metadata": {},
   "outputs": [],
   "source": []
  }
 ],
 "metadata": {
  "kernelspec": {
   "display_name": "Python 3 (ipykernel)",
   "language": "python",
   "name": "python3"
  },
  "language_info": {
   "codemirror_mode": {
    "name": "ipython",
    "version": 3
   },
   "file_extension": ".py",
   "mimetype": "text/x-python",
   "name": "python",
   "nbconvert_exporter": "python",
   "pygments_lexer": "ipython3",
   "version": "3.10.0"
  }
 },
 "nbformat": 4,
 "nbformat_minor": 5
}
