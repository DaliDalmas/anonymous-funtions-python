{
 "cells": [
  {
   "cell_type": "markdown",
   "id": "8cf8cb92-2d3f-4ee4-9d3c-5fef52913c04",
   "metadata": {},
   "source": [
    "### lambda function"
   ]
  },
  {
   "cell_type": "code",
   "execution_count": 53,
   "id": "31c4f882-a2b6-46fc-ae8e-738c19c8b728",
   "metadata": {},
   "outputs": [],
   "source": [
    "def multiply_ten(x):\n",
    "    return x*10\n",
    "\n",
    "def add_two(x,y):\n",
    "    return x+y\n",
    "\n",
    "def get_max(x,y):\n",
    "    if x>y:\n",
    "        return x\n",
    "    else:\n",
    "        return y"
   ]
  },
  {
   "cell_type": "code",
   "execution_count": null,
   "id": "d277fdb4-8d5c-4c3d-9125-72a4f91351d7",
   "metadata": {},
   "outputs": [],
   "source": []
  },
  {
   "cell_type": "code",
   "execution_count": null,
   "id": "65565ff4-027d-48bb-a60e-febfcdc26e6e",
   "metadata": {},
   "outputs": [],
   "source": []
  },
  {
   "cell_type": "markdown",
   "id": "9fb89998-a6dc-42cc-b064-cdfd936cce94",
   "metadata": {},
   "source": [
    "### map function"
   ]
  },
  {
   "cell_type": "code",
   "execution_count": 54,
   "id": "a166e3fe-f023-4ce3-9e83-fcb7d1cbf48c",
   "metadata": {},
   "outputs": [
    {
     "data": {
      "text/plain": [
       "[5, 6, 6]"
      ]
     },
     "execution_count": 54,
     "metadata": {},
     "output_type": "execute_result"
    }
   ],
   "source": [
    "l1 = ['apple', 'banana', 'cherry']\n",
    "list(map(lambda x: len(x), l1))"
   ]
  },
  {
   "cell_type": "code",
   "execution_count": 55,
   "id": "bfe87df7-2e8d-4b40-a60a-92e96585daba",
   "metadata": {},
   "outputs": [
    {
     "data": {
      "text/plain": [
       "[8, 68, 112, 156]"
      ]
     },
     "execution_count": 55,
     "metadata": {},
     "output_type": "execute_result"
    }
   ],
   "source": [
    "l2 = [4,34,56,78]\n",
    "list(map(lambda x:x+x, l2))"
   ]
  },
  {
   "cell_type": "code",
   "execution_count": null,
   "id": "2cab20c3-8d05-49d8-adba-f51f29e456c4",
   "metadata": {},
   "outputs": [],
   "source": []
  },
  {
   "cell_type": "markdown",
   "id": "20d9e651-d389-482a-be5d-72668578b55b",
   "metadata": {},
   "source": [
    "### filter function"
   ]
  },
  {
   "cell_type": "code",
   "execution_count": 56,
   "id": "caa10cf6-6269-4aed-9b2b-11cd226e62d9",
   "metadata": {},
   "outputs": [],
   "source": [
    "def check(letter):\n",
    "    list_of_vowels = ['a', 'e', 'i', 'o', 'u']\n",
    "    if letter in list_of_vowels:\n",
    "        return True\n",
    "    else:\n",
    "          return False\n",
    "letters = ['u', 'a', 'q', 'c', 'i', 'd', 'z', 'p', 'e']"
   ]
  },
  {
   "cell_type": "code",
   "execution_count": 57,
   "id": "cd3b7ad3-74f9-4936-8d55-aa37eb717843",
   "metadata": {},
   "outputs": [
    {
     "name": "stdout",
     "output_type": "stream",
     "text": [
      "The type of returned object is:  <class 'filter'>\n"
     ]
    }
   ],
   "source": [
    "filtered_object = filter(check, letters)\n",
    "print(\"The type of returned object is: \", type(filtered_object))"
   ]
  },
  {
   "cell_type": "code",
   "execution_count": 58,
   "id": "9e625682-189d-4fd8-ac69-015ab0488480",
   "metadata": {},
   "outputs": [
    {
     "name": "stdout",
     "output_type": "stream",
     "text": [
      "The list of vowels is:  ['u', 'a', 'i', 'e']\n"
     ]
    }
   ],
   "source": [
    "filtered_list = list(filtered_object)\n",
    "print(\"The list of vowels is: \", filtered_list)"
   ]
  },
  {
   "cell_type": "code",
   "execution_count": null,
   "id": "a38258e0-2947-4f32-83ab-1a608229b779",
   "metadata": {},
   "outputs": [],
   "source": []
  },
  {
   "cell_type": "code",
   "execution_count": null,
   "id": "4f509087-9013-4f98-a134-807bb69f188c",
   "metadata": {},
   "outputs": [],
   "source": []
  },
  {
   "cell_type": "markdown",
   "id": "9c40ad43-61a5-4e6e-934f-41eeb11ac04f",
   "metadata": {},
   "source": [
    "### datascience"
   ]
  },
  {
   "cell_type": "code",
   "execution_count": 59,
   "id": "e76ca6ba-3f99-421f-b5df-67ca08a10597",
   "metadata": {},
   "outputs": [],
   "source": [
    "import json"
   ]
  },
  {
   "cell_type": "code",
   "execution_count": 60,
   "id": "ea9d2570-26ab-4331-8a16-0551a2c3fb72",
   "metadata": {},
   "outputs": [],
   "source": [
    "with open('drake_lyrics/drake_data.json') as drake_data:\n",
    "    drake_lyrics = json.load(drake_data)"
   ]
  },
  {
   "cell_type": "code",
   "execution_count": 61,
   "id": "0398b246-78b1-45f4-814c-8d5ba32e97f5",
   "metadata": {},
   "outputs": [
    {
     "data": {
      "text/plain": [
       "290"
      ]
     },
     "execution_count": 61,
     "metadata": {},
     "output_type": "execute_result"
    }
   ],
   "source": [
    "len(drake_lyrics)"
   ]
  },
  {
   "cell_type": "code",
   "execution_count": 62,
   "id": "8a23268e-38f6-4346-a09e-e8f93e2fc311",
   "metadata": {},
   "outputs": [
    {
     "data": {
      "text/plain": [
       "[{'album': 'Certified Lover Boy',\n",
       "  'lyrics_title': 'Certified Lover Boy* Lyrics',\n",
       "  'lyrics_url': 'https://genius.com/Drake-certified-lover-boy-lyrics',\n",
       "  'lyrics': \"Lyrics from CLB Merch\\n\\n[Verse]\\nPut my feelings on ice\\nAlways been a gem\\nCertified lover boy, somehow still heartless\\nHeart is only gettin' colder\",\n",
       "  'track_views': '8.7K'},\n",
       " {'album': 'Certified Lover Boy',\n",
       "  'lyrics_title': 'Like I’m Supposed To/Do Things Lyrics',\n",
       "  'lyrics_url': 'https://genius.com/Drake-like-im-supposed-to-do-things-lyrics',\n",
       "  'lyrics': \"[Verse]\\nHands are tied\\nSomeone's in my ear from the other side\\nTellin' me that I should pay you no mind\\nWanted you to not be with me all night\\nWanted you to not stay with me all night\\nI know, you know, who that person is to me\\nDoesn't really change things\\n\\n[Chorus]\\nI know you're scared of dating, falling for me\\nShorty, surely you know me\\nRight here for you always\\nYou know, I don't ever change\\nRight here for you always\\nYou know I don't ever change\\nRight here for you\\n\\n[Bridge]\\nIn mind you make me want to do things, love you\\nLike I'm supposed to\\nYou make me want to love you\\nLike I'm supposed to\\nYou make me want to love you\\nLike I'm supposed to, remind you\\nAyy\\n\\n[Chorus]\\nI know you're scared of dating, falling for me\\nShorty, by now you know me\\nRight here for you always\\nYou know, I don't ever change\\nRight here for you always\\nYou know I don't ever change\\nRight here for you\",\n",
       "  'track_views': '38.8K'}]"
      ]
     },
     "execution_count": 62,
     "metadata": {},
     "output_type": "execute_result"
    }
   ],
   "source": [
    "drake_lyrics[:2]"
   ]
  },
  {
   "cell_type": "code",
   "execution_count": 63,
   "id": "5504d30a-c137-4aaf-bcf5-72be7ff851eb",
   "metadata": {},
   "outputs": [
    {
     "ename": "TypeError",
     "evalue": "object of type 'NoneType' has no len()",
     "output_type": "error",
     "traceback": [
      "\u001b[0;31m---------------------------------------------------------------------------\u001b[0m",
      "\u001b[0;31mTypeError\u001b[0m                                 Traceback (most recent call last)",
      "Input \u001b[0;32mIn [63]\u001b[0m, in \u001b[0;36m<cell line: 1>\u001b[0;34m()\u001b[0m\n\u001b[0;32m----> 1\u001b[0m [\u001b[38;5;28mlen\u001b[39m(song[\u001b[38;5;124m'\u001b[39m\u001b[38;5;124mlyrics\u001b[39m\u001b[38;5;124m'\u001b[39m]) \u001b[38;5;28;01mfor\u001b[39;00m song \u001b[38;5;129;01min\u001b[39;00m drake_lyrics]\n",
      "Input \u001b[0;32mIn [63]\u001b[0m, in \u001b[0;36m<listcomp>\u001b[0;34m(.0)\u001b[0m\n\u001b[0;32m----> 1\u001b[0m [\u001b[38;5;28;43mlen\u001b[39;49m\u001b[43m(\u001b[49m\u001b[43msong\u001b[49m\u001b[43m[\u001b[49m\u001b[38;5;124;43m'\u001b[39;49m\u001b[38;5;124;43mlyrics\u001b[39;49m\u001b[38;5;124;43m'\u001b[39;49m\u001b[43m]\u001b[49m\u001b[43m)\u001b[49m \u001b[38;5;28;01mfor\u001b[39;00m song \u001b[38;5;129;01min\u001b[39;00m drake_lyrics]\n",
      "\u001b[0;31mTypeError\u001b[0m: object of type 'NoneType' has no len()"
     ]
    }
   ],
   "source": [
    "[len(song['lyrics']) for song in drake_lyrics]"
   ]
  },
  {
   "cell_type": "markdown",
   "id": "44c7282e-16f3-42a8-8b03-8e66ea0c9dfa",
   "metadata": {},
   "source": [
    "### filter out the NoneType lyrics songs"
   ]
  },
  {
   "cell_type": "code",
   "execution_count": 64,
   "id": "53ad1f63-23ce-4d96-86b5-ffff8cde540f",
   "metadata": {},
   "outputs": [],
   "source": [
    "drake_lyrics = list(filter(lambda song : song['lyrics']!=None, drake_lyrics))"
   ]
  },
  {
   "cell_type": "markdown",
   "id": "c0b2c2bc-08d8-44dc-9ee3-84d01e136f60",
   "metadata": {},
   "source": [
    "#### find title lengths\n",
    "#### find lyrics lengths\n",
    "#### find views"
   ]
  },
  {
   "cell_type": "code",
   "execution_count": 65,
   "id": "0d8cc284-fa37-45a5-b082-71539257a221",
   "metadata": {},
   "outputs": [],
   "source": [
    "for song in drake_lyrics:\n",
    "    song['lyrics'] = song['lyrics'].replace('\\n', '. ')"
   ]
  },
  {
   "cell_type": "markdown",
   "id": "06326a3a-1817-4ce0-bc93-98589e866efd",
   "metadata": {},
   "source": [
    "### title lengths"
   ]
  },
  {
   "cell_type": "code",
   "execution_count": 66,
   "id": "de29a2f0-2a98-4726-b1f9-2647b522fa92",
   "metadata": {},
   "outputs": [],
   "source": [
    "import numpy as np"
   ]
  },
  {
   "cell_type": "code",
   "execution_count": 67,
   "id": "51382d26-e256-403d-ba0b-3ada0ae3f5af",
   "metadata": {},
   "outputs": [],
   "source": [
    "title_lengths = np.array(list(map(lambda song: len(song['lyrics_title'].split(' ')), drake_lyrics)))"
   ]
  },
  {
   "cell_type": "code",
   "execution_count": 68,
   "id": "df15bba1-e9d2-44e0-9b91-de957e3f3d3c",
   "metadata": {},
   "outputs": [],
   "source": [
    "lyrics_lengths = np.array(list(map(lambda song: len(song['lyrics'].split(' ')), drake_lyrics)))"
   ]
  },
  {
   "cell_type": "code",
   "execution_count": 69,
   "id": "fbcae8d5-c283-4f87-8e74-9b252130d274",
   "metadata": {},
   "outputs": [],
   "source": [
    "def get_views (track_views):\n",
    "    if track_views==None:\n",
    "        return 0.0\n",
    "    if 'K' in track_views:\n",
    "        return float(track_views.replace('K',''))*1000\n",
    "    elif 'M' in track_views:\n",
    "        return float(track_views.replace('M',''))*1000000\n",
    "    else:\n",
    "        0.0"
   ]
  },
  {
   "cell_type": "code",
   "execution_count": 70,
   "id": "4ee7c50a-f348-4d3e-b87a-b26b14575958",
   "metadata": {},
   "outputs": [],
   "source": [
    "views = list(map(lambda song: get_views(song['track_views']), drake_lyrics))"
   ]
  },
  {
   "cell_type": "code",
   "execution_count": 87,
   "id": "d2710271-befb-4c6c-930e-0be30706f58a",
   "metadata": {},
   "outputs": [],
   "source": [
    "l4 = list(map(lambda song: [\n",
    "    get_views(song['track_views']),\n",
    "    len(song['lyrics_title']),\n",
    "    len(song['lyrics'].split(' '))\n",
    "],drake_lyrics))"
   ]
  },
  {
   "cell_type": "code",
   "execution_count": 88,
   "id": "e5f280c5-f067-4dfa-9d94-1f26cff1f865",
   "metadata": {},
   "outputs": [],
   "source": [
    "data = np.array(list(filter(lambda song_stat: \n",
    "                            not any(list(map(lambda stat: stat==0,song_stat))),\n",
    "                            l4)))"
   ]
  },
  {
   "cell_type": "code",
   "execution_count": 89,
   "id": "8f96cd7d-7456-416f-8769-956a2b9959e4",
   "metadata": {},
   "outputs": [
    {
     "data": {
      "text/plain": [
       "-0.1595955752681072"
      ]
     },
     "execution_count": 89,
     "metadata": {},
     "output_type": "execute_result"
    }
   ],
   "source": [
    "from scipy.stats import pearsonr\n",
    "corr, _ = pearsonr(data[:,0], data[:,1])\n",
    "corr"
   ]
  },
  {
   "cell_type": "code",
   "execution_count": 90,
   "id": "f734906e-df00-4247-a3e1-407434a3ec15",
   "metadata": {},
   "outputs": [
    {
     "data": {
      "text/plain": [
       "0.02982479648996272"
      ]
     },
     "execution_count": 90,
     "metadata": {},
     "output_type": "execute_result"
    }
   ],
   "source": [
    "corr, _ = pearsonr(data[:,0], data[:,2])\n",
    "corr"
   ]
  },
  {
   "cell_type": "code",
   "execution_count": 91,
   "id": "95d8c322-e69b-4886-b559-5de0c6bd4c47",
   "metadata": {},
   "outputs": [],
   "source": [
    "### ploting"
   ]
  },
  {
   "cell_type": "code",
   "execution_count": 92,
   "id": "37161aee-e08e-4293-9c75-13ac02988c58",
   "metadata": {},
   "outputs": [],
   "source": [
    "import plotly.graph_objects as go"
   ]
  },
  {
   "cell_type": "code",
   "execution_count": 93,
   "id": "a881e015-9b4c-4a36-ad30-56fa841ac5ba",
   "metadata": {},
   "outputs": [
    {
     "data": {
      "application/vnd.plotly.v1+json": {
       "config": {
        "plotlyServerURL": "https://plot.ly"
       },
       "data": [
        {
         "type": "scatter",
         "x": [
          8,
          10,
          11,
          11,
          11,
          11,
          11,
          12,
          12,
          12,
          12,
          12,
          12,
          13,
          13,
          13,
          13,
          13,
          13,
          13,
          14,
          14,
          14,
          14,
          14,
          14,
          14,
          14,
          14,
          15,
          15,
          15,
          15,
          15,
          15,
          15,
          15,
          15,
          15,
          16,
          16,
          16,
          16,
          16,
          16,
          16,
          16,
          16,
          16,
          16,
          16,
          16,
          17,
          17,
          17,
          17,
          17,
          17,
          17,
          17,
          17,
          17,
          17,
          18,
          18,
          18,
          18,
          18,
          18,
          18,
          19,
          19,
          19,
          19,
          19,
          19,
          19,
          19,
          19,
          19,
          19,
          19,
          19,
          19,
          19,
          19,
          20,
          20,
          20,
          20,
          20,
          20,
          20,
          20,
          20,
          20,
          20,
          20,
          20,
          20,
          20,
          20,
          20,
          21,
          21,
          21,
          21,
          21,
          21,
          21,
          21,
          21,
          21,
          21,
          21,
          22,
          22,
          22,
          22,
          22,
          22,
          22,
          22,
          22,
          23,
          23,
          23,
          23,
          23,
          23,
          24,
          24,
          24,
          24,
          24,
          24,
          24,
          24,
          24,
          24,
          25,
          25,
          25,
          25,
          26,
          26,
          26,
          26,
          26,
          26,
          26,
          27,
          27,
          27,
          27,
          27,
          27,
          28,
          28,
          28,
          28,
          28,
          29,
          29,
          29,
          29,
          29,
          30,
          30,
          30,
          30,
          30,
          30,
          30,
          30,
          31,
          31,
          31,
          31,
          31,
          31,
          32,
          32,
          32,
          32,
          32,
          32,
          33,
          33,
          33,
          33,
          33,
          33,
          33,
          34,
          34,
          34,
          34,
          34,
          34,
          34,
          35,
          35,
          35,
          35,
          35,
          35,
          36,
          36,
          36,
          36,
          36,
          37,
          37,
          37,
          37,
          37,
          37,
          37,
          37,
          37,
          37,
          38,
          38,
          38,
          38,
          39,
          39,
          39,
          40,
          40,
          40,
          40,
          40,
          40,
          41,
          41,
          41,
          41,
          42,
          42,
          43,
          45,
          45,
          46,
          46,
          46,
          46,
          47,
          47,
          47,
          48,
          48,
          50,
          51,
          51,
          52,
          52,
          52,
          52,
          52,
          53,
          54,
          55,
          55,
          55,
          56,
          57,
          58,
          58,
          60,
          89
         ],
         "y": [
          1300000,
          1200000,
          872900,
          1300000,
          426200,
          772000,
          332000,
          1500000,
          1200000,
          1000000,
          922700,
          56300,
          8100,
          557300,
          1100000,
          197400,
          2500000,
          318600,
          2700000,
          2000000,
          987500,
          480600,
          316400,
          1600000,
          480600,
          794700,
          2000000,
          657200,
          576100,
          628100,
          2100000,
          590600,
          14900,
          956900,
          805800,
          1400000,
          225400,
          225400,
          1000000,
          58400,
          1600000,
          550300,
          3700000,
          1900000,
          942000,
          34500,
          19400,
          1800000,
          169100,
          1800000,
          34600,
          974200,
          783200,
          381800,
          8500000,
          975200,
          1900000,
          11900,
          1600000,
          1100000,
          129800.00000000001,
          8500000,
          14600,
          824800,
          20900,
          1400000,
          2000000,
          80100,
          673400,
          1900000,
          2700000,
          73900,
          66400,
          202200,
          2100000,
          1500000,
          2100000,
          961600,
          1300000,
          354600,
          11300,
          546500,
          2300000,
          214800,
          2800000,
          66400,
          16200,
          387900,
          1800000,
          377500,
          6700000,
          2900000,
          703600,
          2800000,
          151500,
          428100,
          7400,
          567100,
          5000000,
          1700000,
          472500,
          492200,
          779500,
          314900,
          9800,
          13700,
          34000,
          419400,
          15000,
          1700000,
          1500000,
          1800000,
          2300000,
          7200000,
          2600000,
          351400,
          124200,
          1300000,
          1100000,
          1700000,
          64200,
          1300000,
          1400000,
          1200000,
          871700,
          1300000,
          37400,
          555000,
          58500,
          112500,
          993900,
          594700,
          653000,
          9400,
          2400000,
          12200,
          56400,
          232300,
          186500,
          232300,
          398400,
          1100000,
          438300,
          65099.99999999999,
          999500,
          660400,
          260800,
          631700,
          580400,
          1300000,
          33400,
          548800,
          2900000,
          549000,
          683700,
          8700,
          443400,
          597200,
          6000,
          1700000,
          1300000,
          480700,
          11900,
          2600000,
          347700,
          27300,
          222300,
          878300,
          3400000,
          1700000,
          951200,
          37700,
          1700000,
          92300,
          1700000,
          28800,
          29100,
          707500,
          847500,
          6200,
          373000,
          3400000,
          13700,
          713700,
          290800,
          25000,
          235300,
          1800000,
          986000,
          1400000,
          727700,
          3600000,
          934200,
          1800000,
          196100,
          7700,
          988900,
          760500,
          16000,
          490900,
          345700,
          72100,
          1000000,
          5900,
          434700,
          6900,
          1200000,
          295000,
          318500,
          5800000,
          19900,
          600300,
          19500,
          300000,
          1300000,
          38800,
          555900,
          489200,
          54800,
          300000,
          9700,
          226900,
          820600,
          10100,
          41500,
          9900,
          6800,
          3900000,
          10300,
          13100,
          45500,
          89700,
          255300,
          531200,
          12300,
          1200000,
          1000000,
          50600,
          500000,
          216100,
          2000000,
          14900,
          1100000,
          258000,
          437100,
          155300,
          78500,
          437200,
          336100,
          40800,
          36600,
          2200000,
          1300000,
          793400,
          5400000,
          102100,
          914800,
          368900,
          513100,
          396900,
          3300000,
          513700.00000000006,
          12100,
          21500,
          588600,
          183400,
          32299.999999999996,
          23200,
          11900,
          11900,
          285600,
          17400
         ]
        }
       ],
       "layout": {
        "autosize": true,
        "template": {
         "data": {
          "bar": [
           {
            "error_x": {
             "color": "#2a3f5f"
            },
            "error_y": {
             "color": "#2a3f5f"
            },
            "marker": {
             "line": {
              "color": "#E5ECF6",
              "width": 0.5
             },
             "pattern": {
              "fillmode": "overlay",
              "size": 10,
              "solidity": 0.2
             }
            },
            "type": "bar"
           }
          ],
          "barpolar": [
           {
            "marker": {
             "line": {
              "color": "#E5ECF6",
              "width": 0.5
             },
             "pattern": {
              "fillmode": "overlay",
              "size": 10,
              "solidity": 0.2
             }
            },
            "type": "barpolar"
           }
          ],
          "carpet": [
           {
            "aaxis": {
             "endlinecolor": "#2a3f5f",
             "gridcolor": "white",
             "linecolor": "white",
             "minorgridcolor": "white",
             "startlinecolor": "#2a3f5f"
            },
            "baxis": {
             "endlinecolor": "#2a3f5f",
             "gridcolor": "white",
             "linecolor": "white",
             "minorgridcolor": "white",
             "startlinecolor": "#2a3f5f"
            },
            "type": "carpet"
           }
          ],
          "choropleth": [
           {
            "colorbar": {
             "outlinewidth": 0,
             "ticks": ""
            },
            "type": "choropleth"
           }
          ],
          "contour": [
           {
            "colorbar": {
             "outlinewidth": 0,
             "ticks": ""
            },
            "colorscale": [
             [
              0,
              "#0d0887"
             ],
             [
              0.1111111111111111,
              "#46039f"
             ],
             [
              0.2222222222222222,
              "#7201a8"
             ],
             [
              0.3333333333333333,
              "#9c179e"
             ],
             [
              0.4444444444444444,
              "#bd3786"
             ],
             [
              0.5555555555555556,
              "#d8576b"
             ],
             [
              0.6666666666666666,
              "#ed7953"
             ],
             [
              0.7777777777777778,
              "#fb9f3a"
             ],
             [
              0.8888888888888888,
              "#fdca26"
             ],
             [
              1,
              "#f0f921"
             ]
            ],
            "type": "contour"
           }
          ],
          "contourcarpet": [
           {
            "colorbar": {
             "outlinewidth": 0,
             "ticks": ""
            },
            "type": "contourcarpet"
           }
          ],
          "heatmap": [
           {
            "colorbar": {
             "outlinewidth": 0,
             "ticks": ""
            },
            "colorscale": [
             [
              0,
              "#0d0887"
             ],
             [
              0.1111111111111111,
              "#46039f"
             ],
             [
              0.2222222222222222,
              "#7201a8"
             ],
             [
              0.3333333333333333,
              "#9c179e"
             ],
             [
              0.4444444444444444,
              "#bd3786"
             ],
             [
              0.5555555555555556,
              "#d8576b"
             ],
             [
              0.6666666666666666,
              "#ed7953"
             ],
             [
              0.7777777777777778,
              "#fb9f3a"
             ],
             [
              0.8888888888888888,
              "#fdca26"
             ],
             [
              1,
              "#f0f921"
             ]
            ],
            "type": "heatmap"
           }
          ],
          "heatmapgl": [
           {
            "colorbar": {
             "outlinewidth": 0,
             "ticks": ""
            },
            "colorscale": [
             [
              0,
              "#0d0887"
             ],
             [
              0.1111111111111111,
              "#46039f"
             ],
             [
              0.2222222222222222,
              "#7201a8"
             ],
             [
              0.3333333333333333,
              "#9c179e"
             ],
             [
              0.4444444444444444,
              "#bd3786"
             ],
             [
              0.5555555555555556,
              "#d8576b"
             ],
             [
              0.6666666666666666,
              "#ed7953"
             ],
             [
              0.7777777777777778,
              "#fb9f3a"
             ],
             [
              0.8888888888888888,
              "#fdca26"
             ],
             [
              1,
              "#f0f921"
             ]
            ],
            "type": "heatmapgl"
           }
          ],
          "histogram": [
           {
            "marker": {
             "pattern": {
              "fillmode": "overlay",
              "size": 10,
              "solidity": 0.2
             }
            },
            "type": "histogram"
           }
          ],
          "histogram2d": [
           {
            "colorbar": {
             "outlinewidth": 0,
             "ticks": ""
            },
            "colorscale": [
             [
              0,
              "#0d0887"
             ],
             [
              0.1111111111111111,
              "#46039f"
             ],
             [
              0.2222222222222222,
              "#7201a8"
             ],
             [
              0.3333333333333333,
              "#9c179e"
             ],
             [
              0.4444444444444444,
              "#bd3786"
             ],
             [
              0.5555555555555556,
              "#d8576b"
             ],
             [
              0.6666666666666666,
              "#ed7953"
             ],
             [
              0.7777777777777778,
              "#fb9f3a"
             ],
             [
              0.8888888888888888,
              "#fdca26"
             ],
             [
              1,
              "#f0f921"
             ]
            ],
            "type": "histogram2d"
           }
          ],
          "histogram2dcontour": [
           {
            "colorbar": {
             "outlinewidth": 0,
             "ticks": ""
            },
            "colorscale": [
             [
              0,
              "#0d0887"
             ],
             [
              0.1111111111111111,
              "#46039f"
             ],
             [
              0.2222222222222222,
              "#7201a8"
             ],
             [
              0.3333333333333333,
              "#9c179e"
             ],
             [
              0.4444444444444444,
              "#bd3786"
             ],
             [
              0.5555555555555556,
              "#d8576b"
             ],
             [
              0.6666666666666666,
              "#ed7953"
             ],
             [
              0.7777777777777778,
              "#fb9f3a"
             ],
             [
              0.8888888888888888,
              "#fdca26"
             ],
             [
              1,
              "#f0f921"
             ]
            ],
            "type": "histogram2dcontour"
           }
          ],
          "mesh3d": [
           {
            "colorbar": {
             "outlinewidth": 0,
             "ticks": ""
            },
            "type": "mesh3d"
           }
          ],
          "parcoords": [
           {
            "line": {
             "colorbar": {
              "outlinewidth": 0,
              "ticks": ""
             }
            },
            "type": "parcoords"
           }
          ],
          "pie": [
           {
            "automargin": true,
            "type": "pie"
           }
          ],
          "scatter": [
           {
            "marker": {
             "colorbar": {
              "outlinewidth": 0,
              "ticks": ""
             }
            },
            "type": "scatter"
           }
          ],
          "scatter3d": [
           {
            "line": {
             "colorbar": {
              "outlinewidth": 0,
              "ticks": ""
             }
            },
            "marker": {
             "colorbar": {
              "outlinewidth": 0,
              "ticks": ""
             }
            },
            "type": "scatter3d"
           }
          ],
          "scattercarpet": [
           {
            "marker": {
             "colorbar": {
              "outlinewidth": 0,
              "ticks": ""
             }
            },
            "type": "scattercarpet"
           }
          ],
          "scattergeo": [
           {
            "marker": {
             "colorbar": {
              "outlinewidth": 0,
              "ticks": ""
             }
            },
            "type": "scattergeo"
           }
          ],
          "scattergl": [
           {
            "marker": {
             "colorbar": {
              "outlinewidth": 0,
              "ticks": ""
             }
            },
            "type": "scattergl"
           }
          ],
          "scattermapbox": [
           {
            "marker": {
             "colorbar": {
              "outlinewidth": 0,
              "ticks": ""
             }
            },
            "type": "scattermapbox"
           }
          ],
          "scatterpolar": [
           {
            "marker": {
             "colorbar": {
              "outlinewidth": 0,
              "ticks": ""
             }
            },
            "type": "scatterpolar"
           }
          ],
          "scatterpolargl": [
           {
            "marker": {
             "colorbar": {
              "outlinewidth": 0,
              "ticks": ""
             }
            },
            "type": "scatterpolargl"
           }
          ],
          "scatterternary": [
           {
            "marker": {
             "colorbar": {
              "outlinewidth": 0,
              "ticks": ""
             }
            },
            "type": "scatterternary"
           }
          ],
          "surface": [
           {
            "colorbar": {
             "outlinewidth": 0,
             "ticks": ""
            },
            "colorscale": [
             [
              0,
              "#0d0887"
             ],
             [
              0.1111111111111111,
              "#46039f"
             ],
             [
              0.2222222222222222,
              "#7201a8"
             ],
             [
              0.3333333333333333,
              "#9c179e"
             ],
             [
              0.4444444444444444,
              "#bd3786"
             ],
             [
              0.5555555555555556,
              "#d8576b"
             ],
             [
              0.6666666666666666,
              "#ed7953"
             ],
             [
              0.7777777777777778,
              "#fb9f3a"
             ],
             [
              0.8888888888888888,
              "#fdca26"
             ],
             [
              1,
              "#f0f921"
             ]
            ],
            "type": "surface"
           }
          ],
          "table": [
           {
            "cells": {
             "fill": {
              "color": "#EBF0F8"
             },
             "line": {
              "color": "white"
             }
            },
            "header": {
             "fill": {
              "color": "#C8D4E3"
             },
             "line": {
              "color": "white"
             }
            },
            "type": "table"
           }
          ]
         },
         "layout": {
          "annotationdefaults": {
           "arrowcolor": "#2a3f5f",
           "arrowhead": 0,
           "arrowwidth": 1
          },
          "autotypenumbers": "strict",
          "coloraxis": {
           "colorbar": {
            "outlinewidth": 0,
            "ticks": ""
           }
          },
          "colorscale": {
           "diverging": [
            [
             0,
             "#8e0152"
            ],
            [
             0.1,
             "#c51b7d"
            ],
            [
             0.2,
             "#de77ae"
            ],
            [
             0.3,
             "#f1b6da"
            ],
            [
             0.4,
             "#fde0ef"
            ],
            [
             0.5,
             "#f7f7f7"
            ],
            [
             0.6,
             "#e6f5d0"
            ],
            [
             0.7,
             "#b8e186"
            ],
            [
             0.8,
             "#7fbc41"
            ],
            [
             0.9,
             "#4d9221"
            ],
            [
             1,
             "#276419"
            ]
           ],
           "sequential": [
            [
             0,
             "#0d0887"
            ],
            [
             0.1111111111111111,
             "#46039f"
            ],
            [
             0.2222222222222222,
             "#7201a8"
            ],
            [
             0.3333333333333333,
             "#9c179e"
            ],
            [
             0.4444444444444444,
             "#bd3786"
            ],
            [
             0.5555555555555556,
             "#d8576b"
            ],
            [
             0.6666666666666666,
             "#ed7953"
            ],
            [
             0.7777777777777778,
             "#fb9f3a"
            ],
            [
             0.8888888888888888,
             "#fdca26"
            ],
            [
             1,
             "#f0f921"
            ]
           ],
           "sequentialminus": [
            [
             0,
             "#0d0887"
            ],
            [
             0.1111111111111111,
             "#46039f"
            ],
            [
             0.2222222222222222,
             "#7201a8"
            ],
            [
             0.3333333333333333,
             "#9c179e"
            ],
            [
             0.4444444444444444,
             "#bd3786"
            ],
            [
             0.5555555555555556,
             "#d8576b"
            ],
            [
             0.6666666666666666,
             "#ed7953"
            ],
            [
             0.7777777777777778,
             "#fb9f3a"
            ],
            [
             0.8888888888888888,
             "#fdca26"
            ],
            [
             1,
             "#f0f921"
            ]
           ]
          },
          "colorway": [
           "#636efa",
           "#EF553B",
           "#00cc96",
           "#ab63fa",
           "#FFA15A",
           "#19d3f3",
           "#FF6692",
           "#B6E880",
           "#FF97FF",
           "#FECB52"
          ],
          "font": {
           "color": "#2a3f5f"
          },
          "geo": {
           "bgcolor": "white",
           "lakecolor": "white",
           "landcolor": "#E5ECF6",
           "showlakes": true,
           "showland": true,
           "subunitcolor": "white"
          },
          "hoverlabel": {
           "align": "left"
          },
          "hovermode": "closest",
          "mapbox": {
           "style": "light"
          },
          "paper_bgcolor": "white",
          "plot_bgcolor": "#E5ECF6",
          "polar": {
           "angularaxis": {
            "gridcolor": "white",
            "linecolor": "white",
            "ticks": ""
           },
           "bgcolor": "#E5ECF6",
           "radialaxis": {
            "gridcolor": "white",
            "linecolor": "white",
            "ticks": ""
           }
          },
          "scene": {
           "xaxis": {
            "backgroundcolor": "#E5ECF6",
            "gridcolor": "white",
            "gridwidth": 2,
            "linecolor": "white",
            "showbackground": true,
            "ticks": "",
            "zerolinecolor": "white"
           },
           "yaxis": {
            "backgroundcolor": "#E5ECF6",
            "gridcolor": "white",
            "gridwidth": 2,
            "linecolor": "white",
            "showbackground": true,
            "ticks": "",
            "zerolinecolor": "white"
           },
           "zaxis": {
            "backgroundcolor": "#E5ECF6",
            "gridcolor": "white",
            "gridwidth": 2,
            "linecolor": "white",
            "showbackground": true,
            "ticks": "",
            "zerolinecolor": "white"
           }
          },
          "shapedefaults": {
           "line": {
            "color": "#2a3f5f"
           }
          },
          "ternary": {
           "aaxis": {
            "gridcolor": "white",
            "linecolor": "white",
            "ticks": ""
           },
           "baxis": {
            "gridcolor": "white",
            "linecolor": "white",
            "ticks": ""
           },
           "bgcolor": "#E5ECF6",
           "caxis": {
            "gridcolor": "white",
            "linecolor": "white",
            "ticks": ""
           }
          },
          "title": {
           "x": 0.05
          },
          "xaxis": {
           "automargin": true,
           "gridcolor": "white",
           "linecolor": "white",
           "ticks": "",
           "title": {
            "standoff": 15
           },
           "zerolinecolor": "white",
           "zerolinewidth": 2
          },
          "yaxis": {
           "automargin": true,
           "gridcolor": "white",
           "linecolor": "white",
           "ticks": "",
           "title": {
            "standoff": 15
           },
           "zerolinecolor": "white",
           "zerolinewidth": 2
          }
         }
        },
        "xaxis": {
         "autorange": false,
         "range": [
          13.31870802011667,
          51.72388043390977
         ],
         "type": "linear"
        },
        "yaxis": {
         "autorange": false,
         "range": [
          -465994.44444444444,
          8735444.084644318
         ],
         "type": "linear"
        }
       }
      },
      "image/png": "[encoded data removed]",
      "text/html": [
       "<div>                            <div id=\"bb64488e-e685-419c-a652-9a8889c5e327\" class=\"plotly-graph-div\" style=\"height:500px; width:100%;\"></div>            <script type=\"text/javascript\">                require([\"plotly\"], function(Plotly) {                    window.PLOTLYENV=window.PLOTLYENV || {};                                    if (document.getElementById(\"bb64488e-e685-419c-a652-9a8889c5e327\")) {                    Plotly.newPlot(                        \"bb64488e-e685-419c-a652-9a8889c5e327\",                        [{\"x\":[8.0,10.0,11.0,11.0,11.0,11.0,11.0,12.0,12.0,12.0,12.0,12.0,12.0,13.0,13.0,13.0,13.0,13.0,13.0,13.0,14.0,14.0,14.0,14.0,14.0,14.0,14.0,14.0,14.0,15.0,15.0,15.0,15.0,15.0,15.0,15.0,15.0,15.0,15.0,16.0,16.0,16.0,16.0,16.0,16.0,16.0,16.0,16.0,16.0,16.0,16.0,16.0,17.0,17.0,17.0,17.0,17.0,17.0,17.0,17.0,17.0,17.0,17.0,18.0,18.0,18.0,18.0,18.0,18.0,18.0,19.0,19.0,19.0,19.0,19.0,19.0,19.0,19.0,19.0,19.0,19.0,19.0,19.0,19.0,19.0,19.0,20.0,20.0,20.0,20.0,20.0,20.0,20.0,20.0,20.0,20.0,20.0,20.0,20.0,20.0,20.0,20.0,20.0,21.0,21.0,21.0,21.0,21.0,21.0,21.0,21.0,21.0,21.0,21.0,21.0,22.0,22.0,22.0,22.0,22.0,22.0,22.0,22.0,22.0,23.0,23.0,23.0,23.0,23.0,23.0,24.0,24.0,24.0,24.0,24.0,24.0,24.0,24.0,24.0,24.0,25.0,25.0,25.0,25.0,26.0,26.0,26.0,26.0,26.0,26.0,26.0,27.0,27.0,27.0,27.0,27.0,27.0,28.0,28.0,28.0,28.0,28.0,29.0,29.0,29.0,29.0,29.0,30.0,30.0,30.0,30.0,30.0,30.0,30.0,30.0,31.0,31.0,31.0,31.0,31.0,31.0,32.0,32.0,32.0,32.0,32.0,32.0,33.0,33.0,33.0,33.0,33.0,33.0,33.0,34.0,34.0,34.0,34.0,34.0,34.0,34.0,35.0,35.0,35.0,35.0,35.0,35.0,36.0,36.0,36.0,36.0,36.0,37.0,37.0,37.0,37.0,37.0,37.0,37.0,37.0,37.0,37.0,38.0,38.0,38.0,38.0,39.0,39.0,39.0,40.0,40.0,40.0,40.0,40.0,40.0,41.0,41.0,41.0,41.0,42.0,42.0,43.0,45.0,45.0,46.0,46.0,46.0,46.0,47.0,47.0,47.0,48.0,48.0,50.0,51.0,51.0,52.0,52.0,52.0,52.0,52.0,53.0,54.0,55.0,55.0,55.0,56.0,57.0,58.0,58.0,60.0,89.0],\"y\":[1300000.0,1200000.0,872900.0,1300000.0,426200.0,772000.0,332000.0,1500000.0,1200000.0,1000000.0,922700.0,56300.0,8100.0,557300.0,1100000.0,197400.0,2500000.0,318600.0,2700000.0,2000000.0,987500.0,480600.0,316400.0,1600000.0,480600.0,794700.0,2000000.0,657200.0,576100.0,628100.0,2100000.0,590600.0,14900.0,956900.0,805800.0,1400000.0,225400.0,225400.0,1000000.0,58400.0,1600000.0,550300.0,3700000.0,1900000.0,942000.0,34500.0,19400.0,1800000.0,169100.0,1800000.0,34600.0,974200.0,783200.0,381800.0,8500000.0,975200.0,1900000.0,11900.0,1600000.0,1100000.0,129800.00000000001,8500000.0,14600.0,824800.0,20900.0,1400000.0,2000000.0,80100.0,673400.0,1900000.0,2700000.0,73900.0,66400.0,202200.0,2100000.0,1500000.0,2100000.0,961600.0,1300000.0,354600.0,11300.0,546500.0,2300000.0,214800.0,2800000.0,66400.0,16200.0,387900.0,1800000.0,377500.0,6700000.0,2900000.0,703600.0,2800000.0,151500.0,428100.0,7400.0,567100.0,5000000.0,1700000.0,472500.0,492200.0,779500.0,314900.0,9800.0,13700.0,34000.0,419400.0,15000.0,1700000.0,1500000.0,1800000.0,2300000.0,7200000.0,2600000.0,351400.0,124200.0,1300000.0,1100000.0,1700000.0,64200.0,1300000.0,1400000.0,1200000.0,871700.0,1300000.0,37400.0,555000.0,58500.0,112500.0,993900.0,594700.0,653000.0,9400.0,2400000.0,12200.0,56400.0,232300.0,186500.0,232300.0,398400.0,1100000.0,438300.0,65099.99999999999,999500.0,660400.0,260800.0,631700.0,580400.0,1300000.0,33400.0,548800.0,2900000.0,549000.0,683700.0,8700.0,443400.0,597200.0,6000.0,1700000.0,1300000.0,480700.0,11900.0,2600000.0,347700.0,27300.0,222300.0,878300.0,3400000.0,1700000.0,951200.0,37700.0,1700000.0,92300.0,1700000.0,28800.0,29100.0,707500.0,847500.0,6200.0,373000.0,3400000.0,13700.0,713700.0,290800.0,25000.0,235300.0,1800000.0,986000.0,1400000.0,727700.0,3600000.0,934200.0,1800000.0,196100.0,7700.0,988900.0,760500.0,16000.0,490900.0,345700.0,72100.0,1000000.0,5900.0,434700.0,6900.0,1200000.0,295000.0,318500.0,5800000.0,19900.0,600300.0,19500.0,300000.0,1300000.0,38800.0,555900.0,489200.0,54800.0,300000.0,9700.0,226900.0,820600.0,10100.0,41500.0,9900.0,6800.0,3900000.0,10300.0,13100.0,45500.0,89700.0,255300.0,531200.0,12300.0,1200000.0,1000000.0,50600.0,500000.0,216100.0,2000000.0,14900.0,1100000.0,258000.0,437100.0,155300.0,78500.0,437200.0,336100.0,40800.0,36600.0,2200000.0,1300000.0,793400.0,5400000.0,102100.0,914800.0,368900.0,513100.0,396900.0,3300000.0,513700.00000000006,12100.0,21500.0,588600.0,183400.0,32299.999999999996,23200.0,11900.0,11900.0,285600.0,17400.0],\"type\":\"scatter\"}],                        {\"template\":{\"data\":{\"bar\":[{\"error_x\":{\"color\":\"#2a3f5f\"},\"error_y\":{\"color\":\"#2a3f5f\"},\"marker\":{\"line\":{\"color\":\"#E5ECF6\",\"width\":0.5},\"pattern\":{\"fillmode\":\"overlay\",\"size\":10,\"solidity\":0.2}},\"type\":\"bar\"}],\"barpolar\":[{\"marker\":{\"line\":{\"color\":\"#E5ECF6\",\"width\":0.5},\"pattern\":{\"fillmode\":\"overlay\",\"size\":10,\"solidity\":0.2}},\"type\":\"barpolar\"}],\"carpet\":[{\"aaxis\":{\"endlinecolor\":\"#2a3f5f\",\"gridcolor\":\"white\",\"linecolor\":\"white\",\"minorgridcolor\":\"white\",\"startlinecolor\":\"#2a3f5f\"},\"baxis\":{\"endlinecolor\":\"#2a3f5f\",\"gridcolor\":\"white\",\"linecolor\":\"white\",\"minorgridcolor\":\"white\",\"startlinecolor\":\"#2a3f5f\"},\"type\":\"carpet\"}],\"choropleth\":[{\"colorbar\":{\"outlinewidth\":0,\"ticks\":\"\"},\"type\":\"choropleth\"}],\"contour\":[{\"colorbar\":{\"outlinewidth\":0,\"ticks\":\"\"},\"colorscale\":[[0.0,\"#0d0887\"],[0.1111111111111111,\"#46039f\"],[0.2222222222222222,\"#7201a8\"],[0.3333333333333333,\"#9c179e\"],[0.4444444444444444,\"#bd3786\"],[0.5555555555555556,\"#d8576b\"],[0.6666666666666666,\"#ed7953\"],[0.7777777777777778,\"#fb9f3a\"],[0.8888888888888888,\"#fdca26\"],[1.0,\"#f0f921\"]],\"type\":\"contour\"}],\"contourcarpet\":[{\"colorbar\":{\"outlinewidth\":0,\"ticks\":\"\"},\"type\":\"contourcarpet\"}],\"heatmap\":[{\"colorbar\":{\"outlinewidth\":0,\"ticks\":\"\"},\"colorscale\":[[0.0,\"#0d0887\"],[0.1111111111111111,\"#46039f\"],[0.2222222222222222,\"#7201a8\"],[0.3333333333333333,\"#9c179e\"],[0.4444444444444444,\"#bd3786\"],[0.5555555555555556,\"#d8576b\"],[0.6666666666666666,\"#ed7953\"],[0.7777777777777778,\"#fb9f3a\"],[0.8888888888888888,\"#fdca26\"],[1.0,\"#f0f921\"]],\"type\":\"heatmap\"}],\"heatmapgl\":[{\"colorbar\":{\"outlinewidth\":0,\"ticks\":\"\"},\"colorscale\":[[0.0,\"#0d0887\"],[0.1111111111111111,\"#46039f\"],[0.2222222222222222,\"#7201a8\"],[0.3333333333333333,\"#9c179e\"],[0.4444444444444444,\"#bd3786\"],[0.5555555555555556,\"#d8576b\"],[0.6666666666666666,\"#ed7953\"],[0.7777777777777778,\"#fb9f3a\"],[0.8888888888888888,\"#fdca26\"],[1.0,\"#f0f921\"]],\"type\":\"heatmapgl\"}],\"histogram\":[{\"marker\":{\"pattern\":{\"fillmode\":\"overlay\",\"size\":10,\"solidity\":0.2}},\"type\":\"histogram\"}],\"histogram2d\":[{\"colorbar\":{\"outlinewidth\":0,\"ticks\":\"\"},\"colorscale\":[[0.0,\"#0d0887\"],[0.1111111111111111,\"#46039f\"],[0.2222222222222222,\"#7201a8\"],[0.3333333333333333,\"#9c179e\"],[0.4444444444444444,\"#bd3786\"],[0.5555555555555556,\"#d8576b\"],[0.6666666666666666,\"#ed7953\"],[0.7777777777777778,\"#fb9f3a\"],[0.8888888888888888,\"#fdca26\"],[1.0,\"#f0f921\"]],\"type\":\"histogram2d\"}],\"histogram2dcontour\":[{\"colorbar\":{\"outlinewidth\":0,\"ticks\":\"\"},\"colorscale\":[[0.0,\"#0d0887\"],[0.1111111111111111,\"#46039f\"],[0.2222222222222222,\"#7201a8\"],[0.3333333333333333,\"#9c179e\"],[0.4444444444444444,\"#bd3786\"],[0.5555555555555556,\"#d8576b\"],[0.6666666666666666,\"#ed7953\"],[0.7777777777777778,\"#fb9f3a\"],[0.8888888888888888,\"#fdca26\"],[1.0,\"#f0f921\"]],\"type\":\"histogram2dcontour\"}],\"mesh3d\":[{\"colorbar\":{\"outlinewidth\":0,\"ticks\":\"\"},\"type\":\"mesh3d\"}],\"parcoords\":[{\"line\":{\"colorbar\":{\"outlinewidth\":0,\"ticks\":\"\"}},\"type\":\"parcoords\"}],\"pie\":[{\"automargin\":true,\"type\":\"pie\"}],\"scatter\":[{\"marker\":{\"colorbar\":{\"outlinewidth\":0,\"ticks\":\"\"}},\"type\":\"scatter\"}],\"scatter3d\":[{\"line\":{\"colorbar\":{\"outlinewidth\":0,\"ticks\":\"\"}},\"marker\":{\"colorbar\":{\"outlinewidth\":0,\"ticks\":\"\"}},\"type\":\"scatter3d\"}],\"scattercarpet\":[{\"marker\":{\"colorbar\":{\"outlinewidth\":0,\"ticks\":\"\"}},\"type\":\"scattercarpet\"}],\"scattergeo\":[{\"marker\":{\"colorbar\":{\"outlinewidth\":0,\"ticks\":\"\"}},\"type\":\"scattergeo\"}],\"scattergl\":[{\"marker\":{\"colorbar\":{\"outlinewidth\":0,\"ticks\":\"\"}},\"type\":\"scattergl\"}],\"scattermapbox\":[{\"marker\":{\"colorbar\":{\"outlinewidth\":0,\"ticks\":\"\"}},\"type\":\"scattermapbox\"}],\"scatterpolar\":[{\"marker\":{\"colorbar\":{\"outlinewidth\":0,\"ticks\":\"\"}},\"type\":\"scatterpolar\"}],\"scatterpolargl\":[{\"marker\":{\"colorbar\":{\"outlinewidth\":0,\"ticks\":\"\"}},\"type\":\"scatterpolargl\"}],\"scatterternary\":[{\"marker\":{\"colorbar\":{\"outlinewidth\":0,\"ticks\":\"\"}},\"type\":\"scatterternary\"}],\"surface\":[{\"colorbar\":{\"outlinewidth\":0,\"ticks\":\"\"},\"colorscale\":[[0.0,\"#0d0887\"],[0.1111111111111111,\"#46039f\"],[0.2222222222222222,\"#7201a8\"],[0.3333333333333333,\"#9c179e\"],[0.4444444444444444,\"#bd3786\"],[0.5555555555555556,\"#d8576b\"],[0.6666666666666666,\"#ed7953\"],[0.7777777777777778,\"#fb9f3a\"],[0.8888888888888888,\"#fdca26\"],[1.0,\"#f0f921\"]],\"type\":\"surface\"}],\"table\":[{\"cells\":{\"fill\":{\"color\":\"#EBF0F8\"},\"line\":{\"color\":\"white\"}},\"header\":{\"fill\":{\"color\":\"#C8D4E3\"},\"line\":{\"color\":\"white\"}},\"type\":\"table\"}]},\"layout\":{\"annotationdefaults\":{\"arrowcolor\":\"#2a3f5f\",\"arrowhead\":0,\"arrowwidth\":1},\"autotypenumbers\":\"strict\",\"coloraxis\":{\"colorbar\":{\"outlinewidth\":0,\"ticks\":\"\"}},\"colorscale\":{\"diverging\":[[0,\"#8e0152\"],[0.1,\"#c51b7d\"],[0.2,\"#de77ae\"],[0.3,\"#f1b6da\"],[0.4,\"#fde0ef\"],[0.5,\"#f7f7f7\"],[0.6,\"#e6f5d0\"],[0.7,\"#b8e186\"],[0.8,\"#7fbc41\"],[0.9,\"#4d9221\"],[1,\"#276419\"]],\"sequential\":[[0.0,\"#0d0887\"],[0.1111111111111111,\"#46039f\"],[0.2222222222222222,\"#7201a8\"],[0.3333333333333333,\"#9c179e\"],[0.4444444444444444,\"#bd3786\"],[0.5555555555555556,\"#d8576b\"],[0.6666666666666666,\"#ed7953\"],[0.7777777777777778,\"#fb9f3a\"],[0.8888888888888888,\"#fdca26\"],[1.0,\"#f0f921\"]],\"sequentialminus\":[[0.0,\"#0d0887\"],[0.1111111111111111,\"#46039f\"],[0.2222222222222222,\"#7201a8\"],[0.3333333333333333,\"#9c179e\"],[0.4444444444444444,\"#bd3786\"],[0.5555555555555556,\"#d8576b\"],[0.6666666666666666,\"#ed7953\"],[0.7777777777777778,\"#fb9f3a\"],[0.8888888888888888,\"#fdca26\"],[1.0,\"#f0f921\"]]},\"colorway\":[\"#636efa\",\"#EF553B\",\"#00cc96\",\"#ab63fa\",\"#FFA15A\",\"#19d3f3\",\"#FF6692\",\"#B6E880\",\"#FF97FF\",\"#FECB52\"],\"font\":{\"color\":\"#2a3f5f\"},\"geo\":{\"bgcolor\":\"white\",\"lakecolor\":\"white\",\"landcolor\":\"#E5ECF6\",\"showlakes\":true,\"showland\":true,\"subunitcolor\":\"white\"},\"hoverlabel\":{\"align\":\"left\"},\"hovermode\":\"closest\",\"mapbox\":{\"style\":\"light\"},\"paper_bgcolor\":\"white\",\"plot_bgcolor\":\"#E5ECF6\",\"polar\":{\"angularaxis\":{\"gridcolor\":\"white\",\"linecolor\":\"white\",\"ticks\":\"\"},\"bgcolor\":\"#E5ECF6\",\"radialaxis\":{\"gridcolor\":\"white\",\"linecolor\":\"white\",\"ticks\":\"\"}},\"scene\":{\"xaxis\":{\"backgroundcolor\":\"#E5ECF6\",\"gridcolor\":\"white\",\"gridwidth\":2,\"linecolor\":\"white\",\"showbackground\":true,\"ticks\":\"\",\"zerolinecolor\":\"white\"},\"yaxis\":{\"backgroundcolor\":\"#E5ECF6\",\"gridcolor\":\"white\",\"gridwidth\":2,\"linecolor\":\"white\",\"showbackground\":true,\"ticks\":\"\",\"zerolinecolor\":\"white\"},\"zaxis\":{\"backgroundcolor\":\"#E5ECF6\",\"gridcolor\":\"white\",\"gridwidth\":2,\"linecolor\":\"white\",\"showbackground\":true,\"ticks\":\"\",\"zerolinecolor\":\"white\"}},\"shapedefaults\":{\"line\":{\"color\":\"#2a3f5f\"}},\"ternary\":{\"aaxis\":{\"gridcolor\":\"white\",\"linecolor\":\"white\",\"ticks\":\"\"},\"baxis\":{\"gridcolor\":\"white\",\"linecolor\":\"white\",\"ticks\":\"\"},\"bgcolor\":\"#E5ECF6\",\"caxis\":{\"gridcolor\":\"white\",\"linecolor\":\"white\",\"ticks\":\"\"}},\"title\":{\"x\":0.05},\"xaxis\":{\"automargin\":true,\"gridcolor\":\"white\",\"linecolor\":\"white\",\"ticks\":\"\",\"title\":{\"standoff\":15},\"zerolinecolor\":\"white\",\"zerolinewidth\":2},\"yaxis\":{\"automargin\":true,\"gridcolor\":\"white\",\"linecolor\":\"white\",\"ticks\":\"\",\"title\":{\"standoff\":15},\"zerolinecolor\":\"white\",\"zerolinewidth\":2}}},\"height\":500},                        {\"responsive\": true}                    ).then(function(){\n",
       "                            \n",
       "var gd = document.getElementById('bb64488e-e685-419c-a652-9a8889c5e327');\n",
       "var x = new MutationObserver(function (mutations, observer) {{\n",
       "        var display = window.getComputedStyle(gd).display;\n",
       "        if (!display || display === 'none') {{\n",
       "            console.log([gd, 'removed!']);\n",
       "            Plotly.purge(gd);\n",
       "            observer.disconnect();\n",
       "        }}\n",
       "}});\n",
       "\n",
       "// Listen for the removal of the full notebook cells\n",
       "var notebookContainer = gd.closest('#notebook-container');\n",
       "if (notebookContainer) {{\n",
       "    x.observe(notebookContainer, {childList: true});\n",
       "}}\n",
       "\n",
       "// Listen for the clearing of the current output cell\n",
       "var outputEl = gd.closest('.output');\n",
       "if (outputEl) {{\n",
       "    x.observe(outputEl, {childList: true});\n",
       "}}\n",
       "\n",
       "                        })                };                });            </script>        </div>"
      ]
     },
     "metadata": {},
     "output_type": "display_data"
    }
   ],
   "source": [
    "data = data[data[:,1].argsort()]\n",
    "fig = go.Figure()\n",
    "fig.add_trace(\n",
    "    go.Scatter(\n",
    "        x=data[:,1],#(data[:,1]-min(data[:,1]))*100/(max(data[:,1])-min(data[:,1])),\n",
    "        y=data[:,0],\n",
    "    ))\n",
    "fig.update_layout(height=500)\n",
    "fig.show()"
   ]
  },
  {
   "cell_type": "code",
   "execution_count": 94,
   "id": "87784006-995a-494d-9dba-2eaf574806f3",
   "metadata": {},
   "outputs": [
    {
     "data": {
      "application/vnd.plotly.v1+json": {
       "config": {
        "plotlyServerURL": "https://plot.ly"
       },
       "data": [
        {
         "type": "scatter",
         "x": [
          1,
          16,
          26,
          84,
          88,
          89,
          137,
          142,
          160,
          161,
          180,
          180,
          183,
          189,
          192,
          213,
          217,
          244,
          249,
          269,
          280,
          283,
          287,
          293,
          301,
          304,
          307,
          310,
          310,
          313,
          315,
          316,
          317,
          329,
          330,
          333,
          335,
          337,
          340,
          341,
          342,
          342,
          343,
          345,
          351,
          352,
          354,
          361,
          362,
          362,
          362,
          368,
          371,
          371,
          371,
          372,
          378,
          383,
          385,
          386,
          387,
          401,
          403,
          406,
          406,
          410,
          414,
          414,
          415,
          422,
          424,
          424,
          426,
          428,
          431,
          432,
          432,
          435,
          438,
          439,
          439,
          448,
          450,
          451,
          451,
          451,
          453,
          454,
          455,
          458,
          460,
          460,
          462,
          463,
          465,
          469,
          471,
          474,
          477,
          478,
          485,
          486,
          488,
          491,
          492,
          494,
          496,
          501,
          503,
          504,
          504,
          507,
          507,
          510,
          512,
          519,
          519,
          520,
          521,
          521,
          521,
          525,
          528,
          528,
          530,
          530,
          530,
          533,
          533,
          534,
          539,
          544,
          545,
          545,
          546,
          546,
          546,
          548,
          549,
          550,
          551,
          552,
          554,
          555,
          555,
          555,
          557,
          562,
          566,
          566,
          567,
          568,
          568,
          571,
          575,
          576,
          581,
          582,
          582,
          583,
          584,
          585,
          585,
          586,
          591,
          593,
          594,
          594,
          600,
          602,
          604,
          604,
          604,
          613,
          613,
          617,
          617,
          618,
          619,
          620,
          620,
          621,
          622,
          624,
          627,
          628,
          629,
          631,
          634,
          635,
          638,
          640,
          640,
          640,
          641,
          648,
          651,
          651,
          654,
          656,
          658,
          660,
          660,
          662,
          667,
          670,
          674,
          674,
          680,
          685,
          688,
          692,
          693,
          697,
          698,
          698,
          700,
          704,
          709,
          709,
          713,
          713,
          723,
          734,
          734,
          743,
          745,
          751,
          755,
          758,
          759,
          759,
          763,
          770,
          771,
          776,
          778,
          789,
          791,
          793,
          797,
          799,
          799,
          801,
          805,
          820,
          822,
          831,
          841,
          842,
          846,
          850,
          852,
          852,
          859,
          879,
          894,
          924,
          927,
          932,
          932,
          934,
          934,
          942,
          948,
          960,
          960,
          966,
          1053,
          1058,
          1078,
          1090
         ],
         "y": [
          6200,
          16000,
          8700,
          37400,
          368900,
          11300,
          8100,
          373000,
          112500,
          7400,
          6900,
          38800,
          653000,
          11900,
          576100,
          588600,
          513100,
          2800000,
          226900,
          531200,
          151500,
          34000,
          847500,
          1000000,
          9400,
          73900,
          9800,
          492200,
          580400,
          387900,
          316400,
          1200000,
          314900,
          12300,
          92300,
          347700,
          1700000,
          546500,
          169100,
          20900,
          102100,
          914800,
          426200,
          1500000,
          72100,
          5400000,
          19400,
          1800000,
          8500000,
          628100,
          8500000,
          1000000,
          480600,
          480600,
          660400,
          657200,
          428100,
          1800000,
          381800,
          1300000,
          214800,
          1800000,
          1900000,
          794700,
          11900,
          197400,
          1700000,
          1700000,
          14900,
          64200,
          2000000,
          5800000,
          942000,
          295000,
          21500,
          783200,
          183400,
          594700,
          1900000,
          56400,
          986000,
          2000000,
          2200000,
          54800,
          56300,
          1800000,
          235300,
          6700000,
          50600,
          58400,
          232300,
          232300,
          9700,
          707500,
          480700,
          2500000,
          23200,
          202200,
          550300,
          793400,
          3400000,
          10300,
          12200,
          3700000,
          1400000,
          987500,
          27300,
          1700000,
          78500,
          1300000,
          779500,
          1500000,
          438300,
          1600000,
          727700,
          1000000,
          222300,
          318500,
          34500,
          34600,
          186500,
          17400,
          10100,
          255300,
          398400,
          260800,
          631700,
          2100000,
          2100000,
          2700000,
          5900,
          3400000,
          1200000,
          6000,
          12100,
          872900,
          25000,
          600300,
          1700000,
          65099.99999999999,
          597200,
          1200000,
          1800000,
          1300000,
          922700,
          13100,
          673400,
          961600,
          1400000,
          2300000,
          567100,
          1300000,
          129800.00000000001,
          590600,
          58500,
          956900,
          1600000,
          1300000,
          2600000,
          5000000,
          500000,
          472500,
          15000,
          124200,
          1400000,
          548800,
          7200000,
          1600000,
          1200000,
          396900,
          225400,
          225400,
          557300,
          549000,
          2900000,
          1800000,
          988900,
          36600,
          555000,
          1400000,
          489200,
          772000,
          1900000,
          2900000,
          16200,
          290800,
          1300000,
          2600000,
          216100,
          377500,
          1100000,
          1000000,
          19500,
          1200000,
          999500,
          37700,
          13700,
          2400000,
          7700,
          419400,
          443400,
          1700000,
          2700000,
          2300000,
          318600,
          45500,
          351400,
          1100000,
          2100000,
          336100,
          683700,
          974200,
          332000,
          871700,
          490900,
          19900,
          32299.999999999996,
          258000,
          760500,
          2000000,
          1100000,
          2000000,
          820600,
          66400,
          66400,
          29100,
          6800,
          824800,
          28800,
          993900,
          1300000,
          713700,
          89700,
          3600000,
          975200,
          1300000,
          345700,
          513700.00000000006,
          2800000,
          1700000,
          703600,
          1500000,
          14600,
          805800,
          354600,
          14900,
          934200,
          155300,
          41500,
          13700,
          196100,
          285600,
          1300000,
          1300000,
          951200,
          878300,
          434700,
          1100000,
          40800,
          437200,
          437100,
          11900,
          11900,
          9900,
          1100000,
          300000,
          300000,
          555900,
          80100,
          3900000,
          3300000,
          33400
         ]
        }
       ],
       "layout": {
        "autosize": true,
        "template": {
         "data": {
          "bar": [
           {
            "error_x": {
             "color": "#2a3f5f"
            },
            "error_y": {
             "color": "#2a3f5f"
            },
            "marker": {
             "line": {
              "color": "#E5ECF6",
              "width": 0.5
             },
             "pattern": {
              "fillmode": "overlay",
              "size": 10,
              "solidity": 0.2
             }
            },
            "type": "bar"
           }
          ],
          "barpolar": [
           {
            "marker": {
             "line": {
              "color": "#E5ECF6",
              "width": 0.5
             },
             "pattern": {
              "fillmode": "overlay",
              "size": 10,
              "solidity": 0.2
             }
            },
            "type": "barpolar"
           }
          ],
          "carpet": [
           {
            "aaxis": {
             "endlinecolor": "#2a3f5f",
             "gridcolor": "white",
             "linecolor": "white",
             "minorgridcolor": "white",
             "startlinecolor": "#2a3f5f"
            },
            "baxis": {
             "endlinecolor": "#2a3f5f",
             "gridcolor": "white",
             "linecolor": "white",
             "minorgridcolor": "white",
             "startlinecolor": "#2a3f5f"
            },
            "type": "carpet"
           }
          ],
          "choropleth": [
           {
            "colorbar": {
             "outlinewidth": 0,
             "ticks": ""
            },
            "type": "choropleth"
           }
          ],
          "contour": [
           {
            "colorbar": {
             "outlinewidth": 0,
             "ticks": ""
            },
            "colorscale": [
             [
              0,
              "#0d0887"
             ],
             [
              0.1111111111111111,
              "#46039f"
             ],
             [
              0.2222222222222222,
              "#7201a8"
             ],
             [
              0.3333333333333333,
              "#9c179e"
             ],
             [
              0.4444444444444444,
              "#bd3786"
             ],
             [
              0.5555555555555556,
              "#d8576b"
             ],
             [
              0.6666666666666666,
              "#ed7953"
             ],
             [
              0.7777777777777778,
              "#fb9f3a"
             ],
             [
              0.8888888888888888,
              "#fdca26"
             ],
             [
              1,
              "#f0f921"
             ]
            ],
            "type": "contour"
           }
          ],
          "contourcarpet": [
           {
            "colorbar": {
             "outlinewidth": 0,
             "ticks": ""
            },
            "type": "contourcarpet"
           }
          ],
          "heatmap": [
           {
            "colorbar": {
             "outlinewidth": 0,
             "ticks": ""
            },
            "colorscale": [
             [
              0,
              "#0d0887"
             ],
             [
              0.1111111111111111,
              "#46039f"
             ],
             [
              0.2222222222222222,
              "#7201a8"
             ],
             [
              0.3333333333333333,
              "#9c179e"
             ],
             [
              0.4444444444444444,
              "#bd3786"
             ],
             [
              0.5555555555555556,
              "#d8576b"
             ],
             [
              0.6666666666666666,
              "#ed7953"
             ],
             [
              0.7777777777777778,
              "#fb9f3a"
             ],
             [
              0.8888888888888888,
              "#fdca26"
             ],
             [
              1,
              "#f0f921"
             ]
            ],
            "type": "heatmap"
           }
          ],
          "heatmapgl": [
           {
            "colorbar": {
             "outlinewidth": 0,
             "ticks": ""
            },
            "colorscale": [
             [
              0,
              "#0d0887"
             ],
             [
              0.1111111111111111,
              "#46039f"
             ],
             [
              0.2222222222222222,
              "#7201a8"
             ],
             [
              0.3333333333333333,
              "#9c179e"
             ],
             [
              0.4444444444444444,
              "#bd3786"
             ],
             [
              0.5555555555555556,
              "#d8576b"
             ],
             [
              0.6666666666666666,
              "#ed7953"
             ],
             [
              0.7777777777777778,
              "#fb9f3a"
             ],
             [
              0.8888888888888888,
              "#fdca26"
             ],
             [
              1,
              "#f0f921"
             ]
            ],
            "type": "heatmapgl"
           }
          ],
          "histogram": [
           {
            "marker": {
             "pattern": {
              "fillmode": "overlay",
              "size": 10,
              "solidity": 0.2
             }
            },
            "type": "histogram"
           }
          ],
          "histogram2d": [
           {
            "colorbar": {
             "outlinewidth": 0,
             "ticks": ""
            },
            "colorscale": [
             [
              0,
              "#0d0887"
             ],
             [
              0.1111111111111111,
              "#46039f"
             ],
             [
              0.2222222222222222,
              "#7201a8"
             ],
             [
              0.3333333333333333,
              "#9c179e"
             ],
             [
              0.4444444444444444,
              "#bd3786"
             ],
             [
              0.5555555555555556,
              "#d8576b"
             ],
             [
              0.6666666666666666,
              "#ed7953"
             ],
             [
              0.7777777777777778,
              "#fb9f3a"
             ],
             [
              0.8888888888888888,
              "#fdca26"
             ],
             [
              1,
              "#f0f921"
             ]
            ],
            "type": "histogram2d"
           }
          ],
          "histogram2dcontour": [
           {
            "colorbar": {
             "outlinewidth": 0,
             "ticks": ""
            },
            "colorscale": [
             [
              0,
              "#0d0887"
             ],
             [
              0.1111111111111111,
              "#46039f"
             ],
             [
              0.2222222222222222,
              "#7201a8"
             ],
             [
              0.3333333333333333,
              "#9c179e"
             ],
             [
              0.4444444444444444,
              "#bd3786"
             ],
             [
              0.5555555555555556,
              "#d8576b"
             ],
             [
              0.6666666666666666,
              "#ed7953"
             ],
             [
              0.7777777777777778,
              "#fb9f3a"
             ],
             [
              0.8888888888888888,
              "#fdca26"
             ],
             [
              1,
              "#f0f921"
             ]
            ],
            "type": "histogram2dcontour"
           }
          ],
          "mesh3d": [
           {
            "colorbar": {
             "outlinewidth": 0,
             "ticks": ""
            },
            "type": "mesh3d"
           }
          ],
          "parcoords": [
           {
            "line": {
             "colorbar": {
              "outlinewidth": 0,
              "ticks": ""
             }
            },
            "type": "parcoords"
           }
          ],
          "pie": [
           {
            "automargin": true,
            "type": "pie"
           }
          ],
          "scatter": [
           {
            "marker": {
             "colorbar": {
              "outlinewidth": 0,
              "ticks": ""
             }
            },
            "type": "scatter"
           }
          ],
          "scatter3d": [
           {
            "line": {
             "colorbar": {
              "outlinewidth": 0,
              "ticks": ""
             }
            },
            "marker": {
             "colorbar": {
              "outlinewidth": 0,
              "ticks": ""
             }
            },
            "type": "scatter3d"
           }
          ],
          "scattercarpet": [
           {
            "marker": {
             "colorbar": {
              "outlinewidth": 0,
              "ticks": ""
             }
            },
            "type": "scattercarpet"
           }
          ],
          "scattergeo": [
           {
            "marker": {
             "colorbar": {
              "outlinewidth": 0,
              "ticks": ""
             }
            },
            "type": "scattergeo"
           }
          ],
          "scattergl": [
           {
            "marker": {
             "colorbar": {
              "outlinewidth": 0,
              "ticks": ""
             }
            },
            "type": "scattergl"
           }
          ],
          "scattermapbox": [
           {
            "marker": {
             "colorbar": {
              "outlinewidth": 0,
              "ticks": ""
             }
            },
            "type": "scattermapbox"
           }
          ],
          "scatterpolar": [
           {
            "marker": {
             "colorbar": {
              "outlinewidth": 0,
              "ticks": ""
             }
            },
            "type": "scatterpolar"
           }
          ],
          "scatterpolargl": [
           {
            "marker": {
             "colorbar": {
              "outlinewidth": 0,
              "ticks": ""
             }
            },
            "type": "scatterpolargl"
           }
          ],
          "scatterternary": [
           {
            "marker": {
             "colorbar": {
              "outlinewidth": 0,
              "ticks": ""
             }
            },
            "type": "scatterternary"
           }
          ],
          "surface": [
           {
            "colorbar": {
             "outlinewidth": 0,
             "ticks": ""
            },
            "colorscale": [
             [
              0,
              "#0d0887"
             ],
             [
              0.1111111111111111,
              "#46039f"
             ],
             [
              0.2222222222222222,
              "#7201a8"
             ],
             [
              0.3333333333333333,
              "#9c179e"
             ],
             [
              0.4444444444444444,
              "#bd3786"
             ],
             [
              0.5555555555555556,
              "#d8576b"
             ],
             [
              0.6666666666666666,
              "#ed7953"
             ],
             [
              0.7777777777777778,
              "#fb9f3a"
             ],
             [
              0.8888888888888888,
              "#fdca26"
             ],
             [
              1,
              "#f0f921"
             ]
            ],
            "type": "surface"
           }
          ],
          "table": [
           {
            "cells": {
             "fill": {
              "color": "#EBF0F8"
             },
             "line": {
              "color": "white"
             }
            },
            "header": {
             "fill": {
              "color": "#C8D4E3"
             },
             "line": {
              "color": "white"
             }
            },
            "type": "table"
           }
          ]
         },
         "layout": {
          "annotationdefaults": {
           "arrowcolor": "#2a3f5f",
           "arrowhead": 0,
           "arrowwidth": 1
          },
          "autotypenumbers": "strict",
          "coloraxis": {
           "colorbar": {
            "outlinewidth": 0,
            "ticks": ""
           }
          },
          "colorscale": {
           "diverging": [
            [
             0,
             "#8e0152"
            ],
            [
             0.1,
             "#c51b7d"
            ],
            [
             0.2,
             "#de77ae"
            ],
            [
             0.3,
             "#f1b6da"
            ],
            [
             0.4,
             "#fde0ef"
            ],
            [
             0.5,
             "#f7f7f7"
            ],
            [
             0.6,
             "#e6f5d0"
            ],
            [
             0.7,
             "#b8e186"
            ],
            [
             0.8,
             "#7fbc41"
            ],
            [
             0.9,
             "#4d9221"
            ],
            [
             1,
             "#276419"
            ]
           ],
           "sequential": [
            [
             0,
             "#0d0887"
            ],
            [
             0.1111111111111111,
             "#46039f"
            ],
            [
             0.2222222222222222,
             "#7201a8"
            ],
            [
             0.3333333333333333,
             "#9c179e"
            ],
            [
             0.4444444444444444,
             "#bd3786"
            ],
            [
             0.5555555555555556,
             "#d8576b"
            ],
            [
             0.6666666666666666,
             "#ed7953"
            ],
            [
             0.7777777777777778,
             "#fb9f3a"
            ],
            [
             0.8888888888888888,
             "#fdca26"
            ],
            [
             1,
             "#f0f921"
            ]
           ],
           "sequentialminus": [
            [
             0,
             "#0d0887"
            ],
            [
             0.1111111111111111,
             "#46039f"
            ],
            [
             0.2222222222222222,
             "#7201a8"
            ],
            [
             0.3333333333333333,
             "#9c179e"
            ],
            [
             0.4444444444444444,
             "#bd3786"
            ],
            [
             0.5555555555555556,
             "#d8576b"
            ],
            [
             0.6666666666666666,
             "#ed7953"
            ],
            [
             0.7777777777777778,
             "#fb9f3a"
            ],
            [
             0.8888888888888888,
             "#fdca26"
            ],
            [
             1,
             "#f0f921"
            ]
           ]
          },
          "colorway": [
           "#636efa",
           "#EF553B",
           "#00cc96",
           "#ab63fa",
           "#FFA15A",
           "#19d3f3",
           "#FF6692",
           "#B6E880",
           "#FF97FF",
           "#FECB52"
          ],
          "font": {
           "color": "#2a3f5f"
          },
          "geo": {
           "bgcolor": "white",
           "lakecolor": "white",
           "landcolor": "#E5ECF6",
           "showlakes": true,
           "showland": true,
           "subunitcolor": "white"
          },
          "hoverlabel": {
           "align": "left"
          },
          "hovermode": "closest",
          "mapbox": {
           "style": "light"
          },
          "paper_bgcolor": "white",
          "plot_bgcolor": "#E5ECF6",
          "polar": {
           "angularaxis": {
            "gridcolor": "white",
            "linecolor": "white",
            "ticks": ""
           },
           "bgcolor": "#E5ECF6",
           "radialaxis": {
            "gridcolor": "white",
            "linecolor": "white",
            "ticks": ""
           }
          },
          "scene": {
           "xaxis": {
            "backgroundcolor": "#E5ECF6",
            "gridcolor": "white",
            "gridwidth": 2,
            "linecolor": "white",
            "showbackground": true,
            "ticks": "",
            "zerolinecolor": "white"
           },
           "yaxis": {
            "backgroundcolor": "#E5ECF6",
            "gridcolor": "white",
            "gridwidth": 2,
            "linecolor": "white",
            "showbackground": true,
            "ticks": "",
            "zerolinecolor": "white"
           },
           "zaxis": {
            "backgroundcolor": "#E5ECF6",
            "gridcolor": "white",
            "gridwidth": 2,
            "linecolor": "white",
            "showbackground": true,
            "ticks": "",
            "zerolinecolor": "white"
           }
          },
          "shapedefaults": {
           "line": {
            "color": "#2a3f5f"
           }
          },
          "ternary": {
           "aaxis": {
            "gridcolor": "white",
            "linecolor": "white",
            "ticks": ""
           },
           "baxis": {
            "gridcolor": "white",
            "linecolor": "white",
            "ticks": ""
           },
           "bgcolor": "#E5ECF6",
           "caxis": {
            "gridcolor": "white",
            "linecolor": "white",
            "ticks": ""
           }
          },
          "title": {
           "x": 0.05
          },
          "xaxis": {
           "automargin": true,
           "gridcolor": "white",
           "linecolor": "white",
           "ticks": "",
           "title": {
            "standoff": 15
           },
           "zerolinecolor": "white",
           "zerolinewidth": 2
          },
          "yaxis": {
           "automargin": true,
           "gridcolor": "white",
           "linecolor": "white",
           "ticks": "",
           "title": {
            "standoff": 15
           },
           "zerolinecolor": "white",
           "zerolinewidth": 2
          }
         }
        },
        "xaxis": {
         "autorange": false,
         "range": [
          331.03625221151253,
          620.6178171982499
         ],
         "type": "linear"
        },
        "yaxis": {
         "autorange": false,
         "range": [
          -465994.44444444444,
          8885173.41749933
         ],
         "type": "linear"
        }
       }
      },
      "image/png": "[encoded data removed]",
      "text/html": [
       "<div>                            <div id=\"7a41c1a2-705f-47b0-89cb-e83d82292380\" class=\"plotly-graph-div\" style=\"height:500px; width:100%;\"></div>            <script type=\"text/javascript\">                require([\"plotly\"], function(Plotly) {                    window.PLOTLYENV=window.PLOTLYENV || {};                                    if (document.getElementById(\"7a41c1a2-705f-47b0-89cb-e83d82292380\")) {                    Plotly.newPlot(                        \"7a41c1a2-705f-47b0-89cb-e83d82292380\",                        [{\"x\":[1.0,16.0,26.0,84.0,88.0,89.0,137.0,142.0,160.0,161.0,180.0,180.0,183.0,189.0,192.0,213.0,217.0,244.0,249.0,269.0,280.0,283.0,287.0,293.0,301.0,304.0,307.0,310.0,310.0,313.0,315.0,316.0,317.0,329.0,330.0,333.0,335.0,337.0,340.0,341.0,342.0,342.0,343.0,345.0,351.0,352.0,354.0,361.0,362.0,362.0,362.0,368.0,371.0,371.0,371.0,372.0,378.0,383.0,385.0,386.0,387.0,401.0,403.0,406.0,406.0,410.0,414.0,414.0,415.0,422.0,424.0,424.0,426.0,428.0,431.0,432.0,432.0,435.0,438.0,439.0,439.0,448.0,450.0,451.0,451.0,451.0,453.0,454.0,455.0,458.0,460.0,460.0,462.0,463.0,465.0,469.0,471.0,474.0,477.0,478.0,485.0,486.0,488.0,491.0,492.0,494.0,496.0,501.0,503.0,504.0,504.0,507.0,507.0,510.0,512.0,519.0,519.0,520.0,521.0,521.0,521.0,525.0,528.0,528.0,530.0,530.0,530.0,533.0,533.0,534.0,539.0,544.0,545.0,545.0,546.0,546.0,546.0,548.0,549.0,550.0,551.0,552.0,554.0,555.0,555.0,555.0,557.0,562.0,566.0,566.0,567.0,568.0,568.0,571.0,575.0,576.0,581.0,582.0,582.0,583.0,584.0,585.0,585.0,586.0,591.0,593.0,594.0,594.0,600.0,602.0,604.0,604.0,604.0,613.0,613.0,617.0,617.0,618.0,619.0,620.0,620.0,621.0,622.0,624.0,627.0,628.0,629.0,631.0,634.0,635.0,638.0,640.0,640.0,640.0,641.0,648.0,651.0,651.0,654.0,656.0,658.0,660.0,660.0,662.0,667.0,670.0,674.0,674.0,680.0,685.0,688.0,692.0,693.0,697.0,698.0,698.0,700.0,704.0,709.0,709.0,713.0,713.0,723.0,734.0,734.0,743.0,745.0,751.0,755.0,758.0,759.0,759.0,763.0,770.0,771.0,776.0,778.0,789.0,791.0,793.0,797.0,799.0,799.0,801.0,805.0,820.0,822.0,831.0,841.0,842.0,846.0,850.0,852.0,852.0,859.0,879.0,894.0,924.0,927.0,932.0,932.0,934.0,934.0,942.0,948.0,960.0,960.0,966.0,1053.0,1058.0,1078.0,1090.0],\"y\":[6200.0,16000.0,8700.0,37400.0,368900.0,11300.0,8100.0,373000.0,112500.0,7400.0,6900.0,38800.0,653000.0,11900.0,576100.0,588600.0,513100.0,2800000.0,226900.0,531200.0,151500.0,34000.0,847500.0,1000000.0,9400.0,73900.0,9800.0,492200.0,580400.0,387900.0,316400.0,1200000.0,314900.0,12300.0,92300.0,347700.0,1700000.0,546500.0,169100.0,20900.0,102100.0,914800.0,426200.0,1500000.0,72100.0,5400000.0,19400.0,1800000.0,8500000.0,628100.0,8500000.0,1000000.0,480600.0,480600.0,660400.0,657200.0,428100.0,1800000.0,381800.0,1300000.0,214800.0,1800000.0,1900000.0,794700.0,11900.0,197400.0,1700000.0,1700000.0,14900.0,64200.0,2000000.0,5800000.0,942000.0,295000.0,21500.0,783200.0,183400.0,594700.0,1900000.0,56400.0,986000.0,2000000.0,2200000.0,54800.0,56300.0,1800000.0,235300.0,6700000.0,50600.0,58400.0,232300.0,232300.0,9700.0,707500.0,480700.0,2500000.0,23200.0,202200.0,550300.0,793400.0,3400000.0,10300.0,12200.0,3700000.0,1400000.0,987500.0,27300.0,1700000.0,78500.0,1300000.0,779500.0,1500000.0,438300.0,1600000.0,727700.0,1000000.0,222300.0,318500.0,34500.0,34600.0,186500.0,17400.0,10100.0,255300.0,398400.0,260800.0,631700.0,2100000.0,2100000.0,2700000.0,5900.0,3400000.0,1200000.0,6000.0,12100.0,872900.0,25000.0,600300.0,1700000.0,65099.99999999999,597200.0,1200000.0,1800000.0,1300000.0,922700.0,13100.0,673400.0,961600.0,1400000.0,2300000.0,567100.0,1300000.0,129800.00000000001,590600.0,58500.0,956900.0,1600000.0,1300000.0,2600000.0,5000000.0,500000.0,472500.0,15000.0,124200.0,1400000.0,548800.0,7200000.0,1600000.0,1200000.0,396900.0,225400.0,225400.0,557300.0,549000.0,2900000.0,1800000.0,988900.0,36600.0,555000.0,1400000.0,489200.0,772000.0,1900000.0,2900000.0,16200.0,290800.0,1300000.0,2600000.0,216100.0,377500.0,1100000.0,1000000.0,19500.0,1200000.0,999500.0,37700.0,13700.0,2400000.0,7700.0,419400.0,443400.0,1700000.0,2700000.0,2300000.0,318600.0,45500.0,351400.0,1100000.0,2100000.0,336100.0,683700.0,974200.0,332000.0,871700.0,490900.0,19900.0,32299.999999999996,258000.0,760500.0,2000000.0,1100000.0,2000000.0,820600.0,66400.0,66400.0,29100.0,6800.0,824800.0,28800.0,993900.0,1300000.0,713700.0,89700.0,3600000.0,975200.0,1300000.0,345700.0,513700.00000000006,2800000.0,1700000.0,703600.0,1500000.0,14600.0,805800.0,354600.0,14900.0,934200.0,155300.0,41500.0,13700.0,196100.0,285600.0,1300000.0,1300000.0,951200.0,878300.0,434700.0,1100000.0,40800.0,437200.0,437100.0,11900.0,11900.0,9900.0,1100000.0,300000.0,300000.0,555900.0,80100.0,3900000.0,3300000.0,33400.0],\"type\":\"scatter\"}],                        {\"template\":{\"data\":{\"bar\":[{\"error_x\":{\"color\":\"#2a3f5f\"},\"error_y\":{\"color\":\"#2a3f5f\"},\"marker\":{\"line\":{\"color\":\"#E5ECF6\",\"width\":0.5},\"pattern\":{\"fillmode\":\"overlay\",\"size\":10,\"solidity\":0.2}},\"type\":\"bar\"}],\"barpolar\":[{\"marker\":{\"line\":{\"color\":\"#E5ECF6\",\"width\":0.5},\"pattern\":{\"fillmode\":\"overlay\",\"size\":10,\"solidity\":0.2}},\"type\":\"barpolar\"}],\"carpet\":[{\"aaxis\":{\"endlinecolor\":\"#2a3f5f\",\"gridcolor\":\"white\",\"linecolor\":\"white\",\"minorgridcolor\":\"white\",\"startlinecolor\":\"#2a3f5f\"},\"baxis\":{\"endlinecolor\":\"#2a3f5f\",\"gridcolor\":\"white\",\"linecolor\":\"white\",\"minorgridcolor\":\"white\",\"startlinecolor\":\"#2a3f5f\"},\"type\":\"carpet\"}],\"choropleth\":[{\"colorbar\":{\"outlinewidth\":0,\"ticks\":\"\"},\"type\":\"choropleth\"}],\"contour\":[{\"colorbar\":{\"outlinewidth\":0,\"ticks\":\"\"},\"colorscale\":[[0.0,\"#0d0887\"],[0.1111111111111111,\"#46039f\"],[0.2222222222222222,\"#7201a8\"],[0.3333333333333333,\"#9c179e\"],[0.4444444444444444,\"#bd3786\"],[0.5555555555555556,\"#d8576b\"],[0.6666666666666666,\"#ed7953\"],[0.7777777777777778,\"#fb9f3a\"],[0.8888888888888888,\"#fdca26\"],[1.0,\"#f0f921\"]],\"type\":\"contour\"}],\"contourcarpet\":[{\"colorbar\":{\"outlinewidth\":0,\"ticks\":\"\"},\"type\":\"contourcarpet\"}],\"heatmap\":[{\"colorbar\":{\"outlinewidth\":0,\"ticks\":\"\"},\"colorscale\":[[0.0,\"#0d0887\"],[0.1111111111111111,\"#46039f\"],[0.2222222222222222,\"#7201a8\"],[0.3333333333333333,\"#9c179e\"],[0.4444444444444444,\"#bd3786\"],[0.5555555555555556,\"#d8576b\"],[0.6666666666666666,\"#ed7953\"],[0.7777777777777778,\"#fb9f3a\"],[0.8888888888888888,\"#fdca26\"],[1.0,\"#f0f921\"]],\"type\":\"heatmap\"}],\"heatmapgl\":[{\"colorbar\":{\"outlinewidth\":0,\"ticks\":\"\"},\"colorscale\":[[0.0,\"#0d0887\"],[0.1111111111111111,\"#46039f\"],[0.2222222222222222,\"#7201a8\"],[0.3333333333333333,\"#9c179e\"],[0.4444444444444444,\"#bd3786\"],[0.5555555555555556,\"#d8576b\"],[0.6666666666666666,\"#ed7953\"],[0.7777777777777778,\"#fb9f3a\"],[0.8888888888888888,\"#fdca26\"],[1.0,\"#f0f921\"]],\"type\":\"heatmapgl\"}],\"histogram\":[{\"marker\":{\"pattern\":{\"fillmode\":\"overlay\",\"size\":10,\"solidity\":0.2}},\"type\":\"histogram\"}],\"histogram2d\":[{\"colorbar\":{\"outlinewidth\":0,\"ticks\":\"\"},\"colorscale\":[[0.0,\"#0d0887\"],[0.1111111111111111,\"#46039f\"],[0.2222222222222222,\"#7201a8\"],[0.3333333333333333,\"#9c179e\"],[0.4444444444444444,\"#bd3786\"],[0.5555555555555556,\"#d8576b\"],[0.6666666666666666,\"#ed7953\"],[0.7777777777777778,\"#fb9f3a\"],[0.8888888888888888,\"#fdca26\"],[1.0,\"#f0f921\"]],\"type\":\"histogram2d\"}],\"histogram2dcontour\":[{\"colorbar\":{\"outlinewidth\":0,\"ticks\":\"\"},\"colorscale\":[[0.0,\"#0d0887\"],[0.1111111111111111,\"#46039f\"],[0.2222222222222222,\"#7201a8\"],[0.3333333333333333,\"#9c179e\"],[0.4444444444444444,\"#bd3786\"],[0.5555555555555556,\"#d8576b\"],[0.6666666666666666,\"#ed7953\"],[0.7777777777777778,\"#fb9f3a\"],[0.8888888888888888,\"#fdca26\"],[1.0,\"#f0f921\"]],\"type\":\"histogram2dcontour\"}],\"mesh3d\":[{\"colorbar\":{\"outlinewidth\":0,\"ticks\":\"\"},\"type\":\"mesh3d\"}],\"parcoords\":[{\"line\":{\"colorbar\":{\"outlinewidth\":0,\"ticks\":\"\"}},\"type\":\"parcoords\"}],\"pie\":[{\"automargin\":true,\"type\":\"pie\"}],\"scatter\":[{\"marker\":{\"colorbar\":{\"outlinewidth\":0,\"ticks\":\"\"}},\"type\":\"scatter\"}],\"scatter3d\":[{\"line\":{\"colorbar\":{\"outlinewidth\":0,\"ticks\":\"\"}},\"marker\":{\"colorbar\":{\"outlinewidth\":0,\"ticks\":\"\"}},\"type\":\"scatter3d\"}],\"scattercarpet\":[{\"marker\":{\"colorbar\":{\"outlinewidth\":0,\"ticks\":\"\"}},\"type\":\"scattercarpet\"}],\"scattergeo\":[{\"marker\":{\"colorbar\":{\"outlinewidth\":0,\"ticks\":\"\"}},\"type\":\"scattergeo\"}],\"scattergl\":[{\"marker\":{\"colorbar\":{\"outlinewidth\":0,\"ticks\":\"\"}},\"type\":\"scattergl\"}],\"scattermapbox\":[{\"marker\":{\"colorbar\":{\"outlinewidth\":0,\"ticks\":\"\"}},\"type\":\"scattermapbox\"}],\"scatterpolar\":[{\"marker\":{\"colorbar\":{\"outlinewidth\":0,\"ticks\":\"\"}},\"type\":\"scatterpolar\"}],\"scatterpolargl\":[{\"marker\":{\"colorbar\":{\"outlinewidth\":0,\"ticks\":\"\"}},\"type\":\"scatterpolargl\"}],\"scatterternary\":[{\"marker\":{\"colorbar\":{\"outlinewidth\":0,\"ticks\":\"\"}},\"type\":\"scatterternary\"}],\"surface\":[{\"colorbar\":{\"outlinewidth\":0,\"ticks\":\"\"},\"colorscale\":[[0.0,\"#0d0887\"],[0.1111111111111111,\"#46039f\"],[0.2222222222222222,\"#7201a8\"],[0.3333333333333333,\"#9c179e\"],[0.4444444444444444,\"#bd3786\"],[0.5555555555555556,\"#d8576b\"],[0.6666666666666666,\"#ed7953\"],[0.7777777777777778,\"#fb9f3a\"],[0.8888888888888888,\"#fdca26\"],[1.0,\"#f0f921\"]],\"type\":\"surface\"}],\"table\":[{\"cells\":{\"fill\":{\"color\":\"#EBF0F8\"},\"line\":{\"color\":\"white\"}},\"header\":{\"fill\":{\"color\":\"#C8D4E3\"},\"line\":{\"color\":\"white\"}},\"type\":\"table\"}]},\"layout\":{\"annotationdefaults\":{\"arrowcolor\":\"#2a3f5f\",\"arrowhead\":0,\"arrowwidth\":1},\"autotypenumbers\":\"strict\",\"coloraxis\":{\"colorbar\":{\"outlinewidth\":0,\"ticks\":\"\"}},\"colorscale\":{\"diverging\":[[0,\"#8e0152\"],[0.1,\"#c51b7d\"],[0.2,\"#de77ae\"],[0.3,\"#f1b6da\"],[0.4,\"#fde0ef\"],[0.5,\"#f7f7f7\"],[0.6,\"#e6f5d0\"],[0.7,\"#b8e186\"],[0.8,\"#7fbc41\"],[0.9,\"#4d9221\"],[1,\"#276419\"]],\"sequential\":[[0.0,\"#0d0887\"],[0.1111111111111111,\"#46039f\"],[0.2222222222222222,\"#7201a8\"],[0.3333333333333333,\"#9c179e\"],[0.4444444444444444,\"#bd3786\"],[0.5555555555555556,\"#d8576b\"],[0.6666666666666666,\"#ed7953\"],[0.7777777777777778,\"#fb9f3a\"],[0.8888888888888888,\"#fdca26\"],[1.0,\"#f0f921\"]],\"sequentialminus\":[[0.0,\"#0d0887\"],[0.1111111111111111,\"#46039f\"],[0.2222222222222222,\"#7201a8\"],[0.3333333333333333,\"#9c179e\"],[0.4444444444444444,\"#bd3786\"],[0.5555555555555556,\"#d8576b\"],[0.6666666666666666,\"#ed7953\"],[0.7777777777777778,\"#fb9f3a\"],[0.8888888888888888,\"#fdca26\"],[1.0,\"#f0f921\"]]},\"colorway\":[\"#636efa\",\"#EF553B\",\"#00cc96\",\"#ab63fa\",\"#FFA15A\",\"#19d3f3\",\"#FF6692\",\"#B6E880\",\"#FF97FF\",\"#FECB52\"],\"font\":{\"color\":\"#2a3f5f\"},\"geo\":{\"bgcolor\":\"white\",\"lakecolor\":\"white\",\"landcolor\":\"#E5ECF6\",\"showlakes\":true,\"showland\":true,\"subunitcolor\":\"white\"},\"hoverlabel\":{\"align\":\"left\"},\"hovermode\":\"closest\",\"mapbox\":{\"style\":\"light\"},\"paper_bgcolor\":\"white\",\"plot_bgcolor\":\"#E5ECF6\",\"polar\":{\"angularaxis\":{\"gridcolor\":\"white\",\"linecolor\":\"white\",\"ticks\":\"\"},\"bgcolor\":\"#E5ECF6\",\"radialaxis\":{\"gridcolor\":\"white\",\"linecolor\":\"white\",\"ticks\":\"\"}},\"scene\":{\"xaxis\":{\"backgroundcolor\":\"#E5ECF6\",\"gridcolor\":\"white\",\"gridwidth\":2,\"linecolor\":\"white\",\"showbackground\":true,\"ticks\":\"\",\"zerolinecolor\":\"white\"},\"yaxis\":{\"backgroundcolor\":\"#E5ECF6\",\"gridcolor\":\"white\",\"gridwidth\":2,\"linecolor\":\"white\",\"showbackground\":true,\"ticks\":\"\",\"zerolinecolor\":\"white\"},\"zaxis\":{\"backgroundcolor\":\"#E5ECF6\",\"gridcolor\":\"white\",\"gridwidth\":2,\"linecolor\":\"white\",\"showbackground\":true,\"ticks\":\"\",\"zerolinecolor\":\"white\"}},\"shapedefaults\":{\"line\":{\"color\":\"#2a3f5f\"}},\"ternary\":{\"aaxis\":{\"gridcolor\":\"white\",\"linecolor\":\"white\",\"ticks\":\"\"},\"baxis\":{\"gridcolor\":\"white\",\"linecolor\":\"white\",\"ticks\":\"\"},\"bgcolor\":\"#E5ECF6\",\"caxis\":{\"gridcolor\":\"white\",\"linecolor\":\"white\",\"ticks\":\"\"}},\"title\":{\"x\":0.05},\"xaxis\":{\"automargin\":true,\"gridcolor\":\"white\",\"linecolor\":\"white\",\"ticks\":\"\",\"title\":{\"standoff\":15},\"zerolinecolor\":\"white\",\"zerolinewidth\":2},\"yaxis\":{\"automargin\":true,\"gridcolor\":\"white\",\"linecolor\":\"white\",\"ticks\":\"\",\"title\":{\"standoff\":15},\"zerolinecolor\":\"white\",\"zerolinewidth\":2}}},\"height\":500},                        {\"responsive\": true}                    ).then(function(){\n",
       "                            \n",
       "var gd = document.getElementById('7a41c1a2-705f-47b0-89cb-e83d82292380');\n",
       "var x = new MutationObserver(function (mutations, observer) {{\n",
       "        var display = window.getComputedStyle(gd).display;\n",
       "        if (!display || display === 'none') {{\n",
       "            console.log([gd, 'removed!']);\n",
       "            Plotly.purge(gd);\n",
       "            observer.disconnect();\n",
       "        }}\n",
       "}});\n",
       "\n",
       "// Listen for the removal of the full notebook cells\n",
       "var notebookContainer = gd.closest('#notebook-container');\n",
       "if (notebookContainer) {{\n",
       "    x.observe(notebookContainer, {childList: true});\n",
       "}}\n",
       "\n",
       "// Listen for the clearing of the current output cell\n",
       "var outputEl = gd.closest('.output');\n",
       "if (outputEl) {{\n",
       "    x.observe(outputEl, {childList: true});\n",
       "}}\n",
       "\n",
       "                        })                };                });            </script>        </div>"
      ]
     },
     "metadata": {},
     "output_type": "display_data"
    }
   ],
   "source": [
    "data = data[data[:,2].argsort()]\n",
    "fig = go.Figure()\n",
    "\n",
    "fig.add_trace(\n",
    "    go.Scatter(\n",
    "        x=data[:,2],#(data[:,2]-min(data[:,2]))*100/(max(data[:,2])-min(data[:,2])),\n",
    "        y=data[:,0],\n",
    "    ))\n",
    "fig.update_layout(height=500)\n",
    "fig.show()"
   ]
  },
  {
   "cell_type": "code",
   "execution_count": null,
   "id": "4f1935e5-d87c-460e-a049-899e3d1c7317",
   "metadata": {},
   "outputs": [],
   "source": []
  },
  {
   "cell_type": "code",
   "execution_count": null,
   "id": "abeb54cd-5cb4-4892-bbf9-cf024d96260f",
   "metadata": {},
   "outputs": [],
   "source": []
  }
 ],
 "metadata": {
  "kernelspec": {
   "display_name": "Python 3 (ipykernel)",
   "language": "python",
   "name": "python3"
  },
  "language_info": {
   "codemirror_mode": {
    "name": "ipython",
    "version": 3
   },
   "file_extension": ".py",
   "mimetype": "text/x-python",
   "name": "python",
   "nbconvert_exporter": "python",
   "pygments_lexer": "ipython3",
   "version": "3.10.0"
  }
 },
 "nbformat": 4,
 "nbformat_minor": 5
}
